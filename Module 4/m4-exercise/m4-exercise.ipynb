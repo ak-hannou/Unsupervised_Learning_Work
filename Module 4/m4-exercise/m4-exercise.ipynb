{
 "cells": [
  {
   "cell_type": "markdown",
   "id": "3daa51bb",
   "metadata": {},
   "source": [
    "# Module 4: Exercise"
   ]
  },
  {
   "cell_type": "code",
   "execution_count": 1,
   "id": "78523069",
   "metadata": {},
   "outputs": [],
   "source": [
    "import pandas as pd\n",
    "import numpy as np\n",
    "import matplotlib.pyplot as plt\n",
    "import seaborn as sns\n",
    "%matplotlib inline\n",
    "\n",
    "import warnings\n",
    "warnings.filterwarnings('ignore')"
   ]
  },
  {
   "cell_type": "markdown",
   "id": "ec0f68d8",
   "metadata": {},
   "source": [
    "In this exercise, we work with a bread basket data set. It contains 20,507 items with five columns. The data were collected from customer transactions between January 11, 2016, and December 3, 2017, including a total of 9,000 transactions. These transactions represent a variety of items ordered from the store."
   ]
  },
  {
   "cell_type": "markdown",
   "id": "b42cae3e",
   "metadata": {},
   "source": [
    "## Data Preprocessing"
   ]
  },
  {
   "cell_type": "code",
   "execution_count": 2,
   "id": "c7a70704",
   "metadata": {},
   "outputs": [
    {
     "data": {
      "text/html": [
       "<div>\n",
       "<style scoped>\n",
       "    .dataframe tbody tr th:only-of-type {\n",
       "        vertical-align: middle;\n",
       "    }\n",
       "\n",
       "    .dataframe tbody tr th {\n",
       "        vertical-align: top;\n",
       "    }\n",
       "\n",
       "    .dataframe thead th {\n",
       "        text-align: right;\n",
       "    }\n",
       "</style>\n",
       "<table border=\"1\" class=\"dataframe\">\n",
       "  <thead>\n",
       "    <tr style=\"text-align: right;\">\n",
       "      <th></th>\n",
       "      <th>Transaction</th>\n",
       "      <th>Item</th>\n",
       "      <th>date_time</th>\n",
       "      <th>period_day</th>\n",
       "      <th>weekday_weekend</th>\n",
       "    </tr>\n",
       "  </thead>\n",
       "  <tbody>\n",
       "    <tr>\n",
       "      <th>0</th>\n",
       "      <td>1</td>\n",
       "      <td>Bread</td>\n",
       "      <td>30-10-2016 09:58</td>\n",
       "      <td>morning</td>\n",
       "      <td>weekend</td>\n",
       "    </tr>\n",
       "    <tr>\n",
       "      <th>1</th>\n",
       "      <td>2</td>\n",
       "      <td>Scandinavian</td>\n",
       "      <td>30-10-2016 10:05</td>\n",
       "      <td>morning</td>\n",
       "      <td>weekend</td>\n",
       "    </tr>\n",
       "    <tr>\n",
       "      <th>2</th>\n",
       "      <td>2</td>\n",
       "      <td>Scandinavian</td>\n",
       "      <td>30-10-2016 10:05</td>\n",
       "      <td>morning</td>\n",
       "      <td>weekend</td>\n",
       "    </tr>\n",
       "    <tr>\n",
       "      <th>3</th>\n",
       "      <td>3</td>\n",
       "      <td>Hot chocolate</td>\n",
       "      <td>30-10-2016 10:07</td>\n",
       "      <td>morning</td>\n",
       "      <td>weekend</td>\n",
       "    </tr>\n",
       "    <tr>\n",
       "      <th>4</th>\n",
       "      <td>3</td>\n",
       "      <td>Jam</td>\n",
       "      <td>30-10-2016 10:07</td>\n",
       "      <td>morning</td>\n",
       "      <td>weekend</td>\n",
       "    </tr>\n",
       "  </tbody>\n",
       "</table>\n",
       "</div>"
      ],
      "text/plain": [
       "   Transaction           Item         date_time period_day weekday_weekend\n",
       "0            1          Bread  30-10-2016 09:58    morning         weekend\n",
       "1            2   Scandinavian  30-10-2016 10:05    morning         weekend\n",
       "2            2   Scandinavian  30-10-2016 10:05    morning         weekend\n",
       "3            3  Hot chocolate  30-10-2016 10:07    morning         weekend\n",
       "4            3            Jam  30-10-2016 10:07    morning         weekend"
      ]
     },
     "execution_count": 2,
     "metadata": {},
     "output_type": "execute_result"
    }
   ],
   "source": [
    "bakery = pd.read_csv('bread_basket.csv')\n",
    "bakery.head()"
   ]
  },
  {
   "cell_type": "markdown",
   "id": "63a7a5e5",
   "metadata": {},
   "source": [
    ">__Task 1__\n",
    ">\n",
    ">Count the number of rows and columns"
   ]
  },
  {
   "cell_type": "code",
   "execution_count": null,
   "id": "5d185fc0",
   "metadata": {},
   "outputs": [],
   "source": [
    "..."
   ]
  },
  {
   "cell_type": "markdown",
   "id": "0b7590e0",
   "metadata": {},
   "source": [
    ">__Task 2__\n",
    ">\n",
    ">Find the data type of each column"
   ]
  },
  {
   "cell_type": "code",
   "execution_count": null,
   "id": "85855ff1",
   "metadata": {},
   "outputs": [],
   "source": [
    "..."
   ]
  },
  {
   "cell_type": "markdown",
   "id": "7c33bd62",
   "metadata": {},
   "source": [
    "### Data Type"
   ]
  },
  {
   "cell_type": "markdown",
   "id": "ff34ea2b",
   "metadata": {},
   "source": [
    "Let’s modify the __date_time__ column to make handling of date and time information easier."
   ]
  },
  {
   "cell_type": "markdown",
   "id": "22c1ab5a",
   "metadata": {},
   "source": [
    ">__Task 3__\n",
    ">\n",
    ">- Convert the __date_time__ column to `datetime` type \n",
    ">- Print the column type to verify the result"
   ]
  },
  {
   "cell_type": "code",
   "execution_count": null,
   "id": "1d4d15c0",
   "metadata": {},
   "outputs": [],
   "source": [
    "..."
   ]
  },
  {
   "cell_type": "code",
   "execution_count": null,
   "id": "8bac1087",
   "metadata": {},
   "outputs": [],
   "source": [
    "# Print the column type\n",
    "..."
   ]
  },
  {
   "cell_type": "markdown",
   "id": "8d1aa3c6",
   "metadata": {},
   "source": [
    "We can now extract particular properties, such as date and hour."
   ]
  },
  {
   "cell_type": "markdown",
   "id": "ca57ac00",
   "metadata": {},
   "source": [
    ">__Task 4__\n",
    ">\n",
    ">- Add the following four columns\n",
    ">     - `date`: the date of the transaction\n",
    ">     - `hour`: the hour of the transaction\n",
    ">     - `month`: the month of the transaction, using `%Y-%m` format\n",
    ">     - `weekday`: the day of the week for the transaction (e.g., Monday, Tuesday, etc.)\n",
    ">- Drop the __date_time__ column from the data\n",
    ">- Print the first 5 rows of the data to verify the result"
   ]
  },
  {
   "cell_type": "code",
   "execution_count": null,
   "id": "417bf783",
   "metadata": {},
   "outputs": [],
   "source": [
    "..."
   ]
  },
  {
   "cell_type": "markdown",
   "id": "4ca3c3b8",
   "metadata": {},
   "source": [
    "### Strings"
   ]
  },
  {
   "cell_type": "markdown",
   "id": "72f9bc38",
   "metadata": {},
   "source": [
    "Since we have strings in the data, let’s ensure the data format is consistent for a better presentation of the information."
   ]
  },
  {
   "cell_type": "markdown",
   "id": "866dbce2",
   "metadata": {},
   "source": [
    ">__Task 5__\n",
    ">\n",
    ">- Change the names in the __Item__ column to lowercase\n",
    ">- Remove spaces at the beginning and the end of the string\n",
    ">- Print the first 5 rows of the data to verify the result"
   ]
  },
  {
   "cell_type": "code",
   "execution_count": null,
   "id": "7eb47ddd",
   "metadata": {},
   "outputs": [],
   "source": [
    "..."
   ]
  },
  {
   "cell_type": "markdown",
   "id": "70957d70",
   "metadata": {},
   "source": [
    "## Exploratory Data Analysis"
   ]
  },
  {
   "cell_type": "markdown",
   "id": "fe84a24e",
   "metadata": {},
   "source": [
    ">__Task 6__\n",
    ">\n",
    ">Count the number of unique items sold\n",
    ">\n",
    ">- Sort items from the most frequent to the least frequent\n",
    ">- Place these items in a new DataFrame called `freq_items` with __Item__ and __Count__ columns\n",
    ">- Print the first 5 rows of the data to verify the result"
   ]
  },
  {
   "cell_type": "code",
   "execution_count": null,
   "id": "46b1133e",
   "metadata": {},
   "outputs": [],
   "source": [
    "..."
   ]
  },
  {
   "cell_type": "markdown",
   "id": "ef44ad8a",
   "metadata": {},
   "source": [
    ">__Task 7__\n",
    ">\n",
    ">Calculate the percentage of the most frequent items\n",
    ">\n",
    ">- Display them as a third column in the `freq_items` data\n",
    ">- Name this new column `Percentage`\n",
    ">- Print the first 5 rows of the data to verify the result"
   ]
  },
  {
   "cell_type": "code",
   "execution_count": null,
   "id": "429a92da",
   "metadata": {},
   "outputs": [],
   "source": [
    "..."
   ]
  },
  {
   "cell_type": "markdown",
   "id": "2bd805a5",
   "metadata": {},
   "source": [
    "## Visualization"
   ]
  },
  {
   "cell_type": "markdown",
   "id": "30c5b0aa",
   "metadata": {},
   "source": [
    "Since there are many data points and displaying them all might be confusing, let’s limit our focus to the first 15 rows of the `freq_items` table."
   ]
  },
  {
   "cell_type": "code",
   "execution_count": 11,
   "id": "751d998c",
   "metadata": {},
   "outputs": [],
   "source": [
    "freq_items = freq_items.head(15)"
   ]
  },
  {
   "cell_type": "markdown",
   "id": "a3762611",
   "metadata": {},
   "source": [
    ">__Task 8__\n",
    ">\n",
    ">Create a bar plot using seaborn with the x-axis representing the items from the `freq_items` and the y-axis representing the count of those items among all transactions\n",
    ">\n",
    ">- Set `figsize` to (14,6)\n",
    ">- Use a palette of your choice\n",
    ">- Rotate the x-axis tick labels to avoid overlapping\n",
    ">- Label the graph and axes correspondingly"
   ]
  },
  {
   "cell_type": "code",
   "execution_count": null,
   "id": "d2bad582",
   "metadata": {},
   "outputs": [],
   "source": [
    "..."
   ]
  },
  {
   "cell_type": "markdown",
   "id": "0ab9b39e",
   "metadata": {},
   "source": [
    ">__Task 9__\n",
    ">\n",
    ">Display the number of transactions for each month\n",
    ">\n",
    ">- Use the `bakery` data to access the information for each month (hint: `groupby`)\n",
    ">- Use a palette of your choice\n",
    ">- Rotate the x-axis tick labels to avoid overlapping"
   ]
  },
  {
   "cell_type": "code",
   "execution_count": null,
   "id": "6fe0b9ec",
   "metadata": {},
   "outputs": [],
   "source": [
    "..."
   ]
  },
  {
   "cell_type": "markdown",
   "id": "bc55bdb6",
   "metadata": {},
   "source": [
    "## The Apriori Algorithm"
   ]
  },
  {
   "cell_type": "markdown",
   "id": "c8adec12",
   "metadata": {},
   "source": [
    "Let’s begin by selecting the variables required for the implementation of the algorithm."
   ]
  },
  {
   "cell_type": "markdown",
   "id": "3da82e6f",
   "metadata": {},
   "source": [
    ">__Task 10__\n",
    ">\n",
    ">Create a new DataFrame named `baskets`, with columns __Transaction__, __Item__, and __Count__\n",
    ">\n",
    ">- Fill out these columns using the information from the `bakery` data\n",
    ">- Record the count of each item in the `Count` column\n",
    ">- Print the first 5 rows of the data to verify the result"
   ]
  },
  {
   "cell_type": "code",
   "execution_count": null,
   "id": "72d6bd08",
   "metadata": {},
   "outputs": [],
   "source": [
    "..."
   ]
  },
  {
   "cell_type": "markdown",
   "id": "9f939a8a",
   "metadata": {},
   "source": [
    "Since we are dealing with categorical variables, we need to transform them into binary codes."
   ]
  },
  {
   "cell_type": "markdown",
   "id": "7a5bb57b",
   "metadata": {},
   "source": [
    ">__Task 11__\n",
    ">\n",
    ">Create a a new DataFrame named `transactions`, where each row indicates if an item is in the basket (transaction)\n",
    ">\n",
    ">- Use the `pivot_table` function for this task, and set `aggfunc`to `any`\n",
    ">- Print the first 5 rows of the data to verify the result"
   ]
  },
  {
   "cell_type": "code",
   "execution_count": null,
   "id": "bd74da44",
   "metadata": {},
   "outputs": [],
   "source": [
    "..."
   ]
  },
  {
   "cell_type": "markdown",
   "id": "bd3d5e58",
   "metadata": {},
   "source": [
    ">__Task 12__\n",
    ">\n",
    ">- Convert the `NaN` values to 0 in the `transactions` data\n",
    ">- Print the table to verify the result"
   ]
  },
  {
   "cell_type": "code",
   "execution_count": null,
   "id": "1967e8a8",
   "metadata": {},
   "outputs": [],
   "source": [
    "..."
   ]
  },
  {
   "cell_type": "markdown",
   "id": "85fd11c7",
   "metadata": {},
   "source": [
    "We can now use the Apriori algorithm to find items that are associated with each other."
   ]
  },
  {
   "cell_type": "markdown",
   "id": "98532cbf",
   "metadata": {},
   "source": [
    ">__Task 13__\n",
    ">\n",
    ">Define a DataFrame named `freq_itemsets` using the Apriori method\n",
    ">\n",
    ">- Use the data from `transactions`\n",
    ">- Set a minimum support value of 0.01\n",
    ">- Retain column names in the returned DataFrame"
   ]
  },
  {
   "cell_type": "code",
   "execution_count": null,
   "id": "45438805",
   "metadata": {},
   "outputs": [],
   "source": [
    "..."
   ]
  },
  {
   "cell_type": "markdown",
   "id": "be3168d0",
   "metadata": {},
   "source": [
    "Now that we have identified the itemsets that meet the threshold, we can use the lift factor to find stronger association rules."
   ]
  },
  {
   "cell_type": "markdown",
   "id": "44b7b6ff",
   "metadata": {},
   "source": [
    ">__Task 14__\n",
    ">\n",
    ">- Create rules using a `lift` metric with a threshold of 1.1 and store them in a `rules` table\n",
    ">- Sort the values descending based on a `confidence` metric\n",
    ">- Print the table to verify the result"
   ]
  },
  {
   "cell_type": "code",
   "execution_count": null,
   "id": "bf67eaa3",
   "metadata": {},
   "outputs": [],
   "source": [
    "..."
   ]
  },
  {
   "cell_type": "markdown",
   "id": "36617aaa",
   "metadata": {},
   "source": [
    "We see that the indexes of the table are derived from the original data."
   ]
  },
  {
   "cell_type": "markdown",
   "id": "3019e150",
   "metadata": {},
   "source": [
    ">__Task 15__\n",
    ">\n",
    ">- Reset the indexes so the rows start from 0\n",
    ">- Print the table to verify the result"
   ]
  },
  {
   "cell_type": "code",
   "execution_count": null,
   "id": "4fdaf108",
   "metadata": {},
   "outputs": [],
   "source": [
    "..."
   ]
  }
 ],
 "metadata": {
  "kernelspec": {
   "display_name": "Python 3",
   "language": "python",
   "name": "python3"
  },
  "language_info": {
   "codemirror_mode": {
    "name": "ipython",
    "version": 3
   },
   "file_extension": ".py",
   "mimetype": "text/x-python",
   "name": "python",
   "nbconvert_exporter": "python",
   "pygments_lexer": "ipython3",
   "version": "3.10.4"
  }
 },
 "nbformat": 4,
 "nbformat_minor": 5
}
