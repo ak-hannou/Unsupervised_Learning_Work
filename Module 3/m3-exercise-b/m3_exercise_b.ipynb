{
 "cells": [
  {
   "cell_type": "markdown",
   "id": "23e5cd81",
   "metadata": {
    "id": "23e5cd81"
   },
   "source": [
    "# Module 3: Exercise B"
   ]
  },
  {
   "cell_type": "code",
   "execution_count": 1,
   "id": "2d54bd14",
   "metadata": {
    "id": "2d54bd14"
   },
   "outputs": [],
   "source": [
    "import pandas as pd\n",
    "import seaborn as sns\n",
    "import matplotlib.pyplot as plt\n",
    "import numpy as np\n",
    "\n",
    "import warnings\n",
    "warnings.filterwarnings(\"ignore\")"
   ]
  },
  {
   "cell_type": "markdown",
   "id": "19b7e976",
   "metadata": {
    "id": "19b7e976",
    "tags": []
   },
   "source": [
    "In this exercise, we will work with a dataset related to the direct marketing campaign (phone calls) of a banking institution. The classification goal is to predict if a client will subscribe to a term deposit. The variable __y__ represents the outcome of the phone call:\n",
    "\n",
    "- `1` indicates that the client subscribed to a term deposit.\n",
    "- `0` indicates that they did not."
   ]
  },
  {
   "cell_type": "markdown",
   "id": "0ceff9ac-6d67-4084-9b61-170a89cb72dd",
   "metadata": {},
   "source": [
    "## Data Preprocessing"
   ]
  },
  {
   "cell_type": "code",
   "execution_count": 2,
   "id": "638085bd",
   "metadata": {
    "id": "638085bd"
   },
   "outputs": [
    {
     "data": {
      "text/html": [
       "<div>\n",
       "<style scoped>\n",
       "    .dataframe tbody tr th:only-of-type {\n",
       "        vertical-align: middle;\n",
       "    }\n",
       "\n",
       "    .dataframe tbody tr th {\n",
       "        vertical-align: top;\n",
       "    }\n",
       "\n",
       "    .dataframe thead th {\n",
       "        text-align: right;\n",
       "    }\n",
       "</style>\n",
       "<table border=\"1\" class=\"dataframe\">\n",
       "  <thead>\n",
       "    <tr style=\"text-align: right;\">\n",
       "      <th></th>\n",
       "      <th>age</th>\n",
       "      <th>job</th>\n",
       "      <th>education</th>\n",
       "      <th>default</th>\n",
       "      <th>balance</th>\n",
       "      <th>housing</th>\n",
       "      <th>loan</th>\n",
       "      <th>duration</th>\n",
       "      <th>campaign</th>\n",
       "      <th>pdays</th>\n",
       "      <th>previous</th>\n",
       "      <th>y</th>\n",
       "    </tr>\n",
       "  </thead>\n",
       "  <tbody>\n",
       "    <tr>\n",
       "      <th>0</th>\n",
       "      <td>30.0</td>\n",
       "      <td>unemployed</td>\n",
       "      <td>primary</td>\n",
       "      <td>no</td>\n",
       "      <td>1787.0</td>\n",
       "      <td>no</td>\n",
       "      <td>no</td>\n",
       "      <td>79.0</td>\n",
       "      <td>1.0</td>\n",
       "      <td>999.0</td>\n",
       "      <td>0.0</td>\n",
       "      <td>0</td>\n",
       "    </tr>\n",
       "    <tr>\n",
       "      <th>1</th>\n",
       "      <td>33.0</td>\n",
       "      <td>services</td>\n",
       "      <td>secondary</td>\n",
       "      <td>no</td>\n",
       "      <td>4789.0</td>\n",
       "      <td>yes</td>\n",
       "      <td>yes</td>\n",
       "      <td>220.0</td>\n",
       "      <td>1.0</td>\n",
       "      <td>339.0</td>\n",
       "      <td>4.0</td>\n",
       "      <td>0</td>\n",
       "    </tr>\n",
       "    <tr>\n",
       "      <th>2</th>\n",
       "      <td>35.0</td>\n",
       "      <td>management</td>\n",
       "      <td>tertiary</td>\n",
       "      <td>no</td>\n",
       "      <td>1350.0</td>\n",
       "      <td>yes</td>\n",
       "      <td>no</td>\n",
       "      <td>185.0</td>\n",
       "      <td>1.0</td>\n",
       "      <td>330.0</td>\n",
       "      <td>1.0</td>\n",
       "      <td>0</td>\n",
       "    </tr>\n",
       "    <tr>\n",
       "      <th>3</th>\n",
       "      <td>30.0</td>\n",
       "      <td>management</td>\n",
       "      <td>tertiary</td>\n",
       "      <td>no</td>\n",
       "      <td>NaN</td>\n",
       "      <td>yes</td>\n",
       "      <td>yes</td>\n",
       "      <td>199.0</td>\n",
       "      <td>4.0</td>\n",
       "      <td>999.0</td>\n",
       "      <td>0.0</td>\n",
       "      <td>0</td>\n",
       "    </tr>\n",
       "    <tr>\n",
       "      <th>4</th>\n",
       "      <td>59.0</td>\n",
       "      <td>blue-collar</td>\n",
       "      <td>secondary</td>\n",
       "      <td>no</td>\n",
       "      <td>0.0</td>\n",
       "      <td>yes</td>\n",
       "      <td>no</td>\n",
       "      <td>226.0</td>\n",
       "      <td>1.0</td>\n",
       "      <td>999.0</td>\n",
       "      <td>0.0</td>\n",
       "      <td>0</td>\n",
       "    </tr>\n",
       "  </tbody>\n",
       "</table>\n",
       "</div>"
      ],
      "text/plain": [
       "    age          job  education default  balance housing loan  duration  \\\n",
       "0  30.0   unemployed    primary      no   1787.0      no   no      79.0   \n",
       "1  33.0     services  secondary      no   4789.0     yes  yes     220.0   \n",
       "2  35.0   management   tertiary      no   1350.0     yes   no     185.0   \n",
       "3  30.0   management   tertiary      no      NaN     yes  yes     199.0   \n",
       "4  59.0  blue-collar  secondary      no      0.0     yes   no     226.0   \n",
       "\n",
       "   campaign  pdays  previous  y  \n",
       "0       1.0  999.0       0.0  0  \n",
       "1       1.0  339.0       4.0  0  \n",
       "2       1.0  330.0       1.0  0  \n",
       "3       4.0  999.0       0.0  0  \n",
       "4       1.0  999.0       0.0  0  "
      ]
     },
     "execution_count": 2,
     "metadata": {},
     "output_type": "execute_result"
    }
   ],
   "source": [
    "bank = pd.read_csv('bank_data.csv')\n",
    "bank.head()"
   ]
  },
  {
   "cell_type": "code",
   "execution_count": 3,
   "id": "fd170cf6",
   "metadata": {
    "colab": {
     "base_uri": "https://localhost:8080/"
    },
    "id": "fd170cf6",
    "outputId": "17dbd399-da3a-4a51-b75b-f8394e597f4c"
   },
   "outputs": [
    {
     "name": "stdout",
     "output_type": "stream",
     "text": [
      "<class 'pandas.core.frame.DataFrame'>\n",
      "RangeIndex: 4521 entries, 0 to 4520\n",
      "Data columns (total 12 columns):\n",
      " #   Column     Non-Null Count  Dtype  \n",
      "---  ------     --------------  -----  \n",
      " 0   age        4521 non-null   float64\n",
      " 1   job        4483 non-null   object \n",
      " 2   education  4521 non-null   object \n",
      " 3   default    4521 non-null   object \n",
      " 4   balance    4424 non-null   float64\n",
      " 5   housing    4521 non-null   object \n",
      " 6   loan       4521 non-null   object \n",
      " 7   duration   4521 non-null   float64\n",
      " 8   campaign   4521 non-null   float64\n",
      " 9   pdays      4463 non-null   float64\n",
      " 10  previous   4521 non-null   float64\n",
      " 11  y          4521 non-null   int64  \n",
      "dtypes: float64(6), int64(1), object(5)\n",
      "memory usage: 424.0+ KB\n"
     ]
    }
   ],
   "source": [
    "bank.info()"
   ]
  },
  {
   "cell_type": "markdown",
   "id": "7191bca7-00c1-4a4f-8275-95074ef6a607",
   "metadata": {},
   "source": [
    "### Missing Values"
   ]
  },
  {
   "cell_type": "markdown",
   "id": "cc663c4a-7517-4d1f-9d2b-88f998c84a95",
   "metadata": {},
   "source": [
    ">__Task 1__\n",
    ">\n",
    ">Count the number of NAs for each column"
   ]
  },
  {
   "cell_type": "code",
   "execution_count": null,
   "id": "a2362487-c4ba-4de9-aca7-bc3e101c9991",
   "metadata": {},
   "outputs": [],
   "source": [
    "..."
   ]
  },
  {
   "cell_type": "markdown",
   "id": "5abf98a7-482b-47b6-add7-7df3a2f112cf",
   "metadata": {},
   "source": [
    "We see some missing values in some columns, let's deal with them."
   ]
  },
  {
   "cell_type": "markdown",
   "id": "f961f490",
   "metadata": {
    "id": "f961f490"
   },
   "source": [
    ">__Task 2__\n",
    ">\n",
    ">Drop rows with missing values and double check the NAs for each column"
   ]
  },
  {
   "cell_type": "code",
   "execution_count": null,
   "id": "e8e6d7bb",
   "metadata": {
    "id": "e8e6d7bb"
   },
   "outputs": [],
   "source": [
    "..."
   ]
  },
  {
   "cell_type": "markdown",
   "id": "89bd5122-f360-40bf-bd2d-500bc8be7af7",
   "metadata": {},
   "source": [
    "### Outliers"
   ]
  },
  {
   "cell_type": "markdown",
   "id": "efa12bae",
   "metadata": {
    "id": "efa12bae"
   },
   "source": [
    ">__Task 3__\n",
    ">\n",
    ">- Find the the mean and standard deviation of the __balance__ column\n",
    ">- Create a mask for values less than `mean-3*sd` and greater than `mean+3*sd`\n",
    ">- Use the mask to filter out outlier rows and print the first 10 rows"
   ]
  },
  {
   "cell_type": "code",
   "execution_count": null,
   "id": "ac966d2a",
   "metadata": {
    "colab": {
     "base_uri": "https://localhost:8080/",
     "height": 380
    },
    "id": "ac966d2a",
    "outputId": "8775769e-62b8-4d6b-8990-a30fed216e7c"
   },
   "outputs": [],
   "source": [
    "..."
   ]
  },
  {
   "cell_type": "markdown",
   "id": "9e6a7e4b-a24c-41fa-9347-db87b04ef4e3",
   "metadata": {},
   "source": [
    ">__Task 4__\n",
    ">\n",
    ">- Replace outliers in the __balance__ column with the thresholds\n",
    ">- Check descriptive statistics of the data"
   ]
  },
  {
   "cell_type": "code",
   "execution_count": null,
   "id": "9dc55b98",
   "metadata": {
    "colab": {
     "base_uri": "https://localhost:8080/",
     "height": 474
    },
    "id": "9dc55b98",
    "outputId": "a46d95cc-b248-4a52-ff21-a035c5bfe5be"
   },
   "outputs": [],
   "source": [
    "..."
   ]
  },
  {
   "cell_type": "markdown",
   "id": "2b7cee8e-6974-455c-b4c3-b982cad72cac",
   "metadata": {},
   "source": [
    "### Categorical Data"
   ]
  },
  {
   "cell_type": "markdown",
   "id": "8ba70c77-fb58-4f51-af8b-57a5c4a7dde6",
   "metadata": {},
   "source": [
    "The data set contains categorical variables. Let's convert them."
   ]
  },
  {
   "cell_type": "markdown",
   "id": "55db3adf",
   "metadata": {
    "id": "55db3adf"
   },
   "source": [
    ">__Task 5__\n",
    ">\n",
    ">- Check values and counts in each value of the columns: __job__, __education__, __default__, __housing__, __loan__\n",
    ">- Convert variables into numerical ones (Hint: create a dictionary and use `.replace` for binary categorical variables, and use `pd.get_dummies` for multi-categorical variables)"
   ]
  },
  {
   "cell_type": "code",
   "execution_count": null,
   "id": "c23f620a",
   "metadata": {
    "colab": {
     "base_uri": "https://localhost:8080/"
    },
    "id": "c23f620a",
    "outputId": "af172769-5bd6-4436-8bf8-f830fa4ccfec"
   },
   "outputs": [],
   "source": [
    "..."
   ]
  },
  {
   "cell_type": "markdown",
   "id": "cc837d89-191b-4f13-9df8-e28f9632738f",
   "metadata": {},
   "source": [
    "You can double check the results by printing the meta information again:"
   ]
  },
  {
   "cell_type": "code",
   "execution_count": 11,
   "id": "15436b14",
   "metadata": {
    "colab": {
     "base_uri": "https://localhost:8080/"
    },
    "id": "15436b14",
    "outputId": "35145055-5b92-4b20-f539-98ab60e4bc27"
   },
   "outputs": [
    {
     "name": "stdout",
     "output_type": "stream",
     "text": [
      "<class 'pandas.core.frame.DataFrame'>\n",
      "Int64Index: 4332 entries, 0 to 4520\n",
      "Data columns (total 25 columns):\n",
      " #   Column               Non-Null Count  Dtype  \n",
      "---  ------               --------------  -----  \n",
      " 0   age                  4332 non-null   float64\n",
      " 1   default              4332 non-null   int64  \n",
      " 2   balance              4332 non-null   float64\n",
      " 3   housing              4332 non-null   int64  \n",
      " 4   loan                 4332 non-null   int64  \n",
      " 5   duration             4332 non-null   float64\n",
      " 6   campaign             4332 non-null   float64\n",
      " 7   pdays                4332 non-null   float64\n",
      " 8   previous             4332 non-null   float64\n",
      " 9   y                    4332 non-null   int64  \n",
      " 10  job_admin.           4332 non-null   uint8  \n",
      " 11  job_blue-collar      4332 non-null   uint8  \n",
      " 12  job_entrepreneur     4332 non-null   uint8  \n",
      " 13  job_housemaid        4332 non-null   uint8  \n",
      " 14  job_management       4332 non-null   uint8  \n",
      " 15  job_retired          4332 non-null   uint8  \n",
      " 16  job_self-employed    4332 non-null   uint8  \n",
      " 17  job_services         4332 non-null   uint8  \n",
      " 18  job_student          4332 non-null   uint8  \n",
      " 19  job_technician       4332 non-null   uint8  \n",
      " 20  job_unemployed       4332 non-null   uint8  \n",
      " 21  education_primary    4332 non-null   uint8  \n",
      " 22  education_secondary  4332 non-null   uint8  \n",
      " 23  education_tertiary   4332 non-null   uint8  \n",
      " 24  education_unknown    4332 non-null   uint8  \n",
      "dtypes: float64(6), int64(4), uint8(15)\n",
      "memory usage: 435.7 KB\n"
     ]
    }
   ],
   "source": [
    "bank.info()"
   ]
  },
  {
   "cell_type": "markdown",
   "id": "7d3b7a3a-6390-4613-8c87-96fcf8e56cc1",
   "metadata": {},
   "source": [
    "### Visualization"
   ]
  },
  {
   "cell_type": "markdown",
   "id": "-OaaUMcvECL0",
   "metadata": {
    "id": "-OaaUMcvECL0"
   },
   "source": [
    ">__Task 6__\n",
    ">\n",
    "> Create a scatter plot of two variables __balance__ and __age__ labelled with __y__"
   ]
  },
  {
   "cell_type": "code",
   "execution_count": null,
   "id": "fc103d18",
   "metadata": {
    "colab": {
     "base_uri": "https://localhost:8080/",
     "height": 470
    },
    "id": "fc103d18",
    "outputId": "376caaba-b330-4bb7-9718-b30782a3213e"
   },
   "outputs": [],
   "source": [
    "..."
   ]
  },
  {
   "cell_type": "markdown",
   "id": "7d8b271b-e43f-47de-8c1e-bd3202c355c9",
   "metadata": {},
   "source": [
    "### Data Scaling"
   ]
  },
  {
   "cell_type": "markdown",
   "id": "5a6fdadc-0519-4eb0-bbc5-c52502551c1b",
   "metadata": {},
   "source": [
    "K-means algorithm computes the distance between data points and cluster centers. When certain features have a significantly larger scale compared to others, they can disproportionately influence the distance calculations, potentially leading to suboptimal clustering outcomes. Implementing scaling can help alleviate this issue."
   ]
  },
  {
   "cell_type": "markdown",
   "id": "SeBj1Nu9ECL1",
   "metadata": {
    "id": "SeBj1Nu9ECL1"
   },
   "source": [
    ">__Task 7__\n",
    ">\n",
    ">- Define `X` by dropping the __y__ column\n",
    ">- Define `y` as the __y__ column\n",
    ">- Define `X_scaled` by scaling `X` using `MinMaxScaler`"
   ]
  },
  {
   "cell_type": "code",
   "execution_count": null,
   "id": "8d1935c1",
   "metadata": {
    "id": "8d1935c1"
   },
   "outputs": [],
   "source": [
    "..."
   ]
  },
  {
   "cell_type": "markdown",
   "id": "ec2eefe1-a3cd-463f-bd67-d90549c07d4b",
   "metadata": {},
   "source": [
    "##  K-means Clustering"
   ]
  },
  {
   "cell_type": "markdown",
   "id": "12e62d6a-a1fa-44cc-8875-a19fb16eeea7",
   "metadata": {
    "id": "iWeDPC0IECL2"
   },
   "source": [
    ">__Task 8__\n",
    ">\n",
    ">- Apply k-means to `X` with 2 clusters and print coordinates of cluster centers\n",
    ">- Print labels of each point\n",
    ">- Create a scatter plot of __balance__ and __age__ variables labelled with point labels"
   ]
  },
  {
   "cell_type": "code",
   "execution_count": null,
   "id": "31569912",
   "metadata": {
    "colab": {
     "base_uri": "https://localhost:8080/"
    },
    "id": "31569912",
    "outputId": "b95b084b-ef14-44f1-d694-eb0104eda458"
   },
   "outputs": [],
   "source": [
    "..."
   ]
  },
  {
   "cell_type": "markdown",
   "id": "debb99a3-5cbf-4b9a-8dc0-405c150e2f38",
   "metadata": {
    "id": "iWeDPC0IECL2"
   },
   "source": [
    ">__Task 9__\n",
    ">\n",
    ">- Apply k-means to `X_scaled` with 2 clusters and print coordinates of cluster centers\n",
    ">- Print labels of each point\n",
    ">- Create a scatter plot of __balance__ and __age__ variables labelled with point labels"
   ]
  },
  {
   "cell_type": "code",
   "execution_count": null,
   "id": "RtgC-hcJFDfx",
   "metadata": {
    "colab": {
     "base_uri": "https://localhost:8080/"
    },
    "id": "RtgC-hcJFDfx",
    "outputId": "ca7398a0-fffd-46f5-debc-48f5f75de4aa"
   },
   "outputs": [],
   "source": [
    "..."
   ]
  },
  {
   "cell_type": "markdown",
   "id": "af0b8d4d",
   "metadata": {
    "id": "af0b8d4d"
   },
   "source": [
    "The clustering results show significant differences between unscaled and scaled variables. In the case of unscaled data, the __balance__ column, which has larger values compared to other columns, exerts a significant influence on the k-means algorithm."
   ]
  },
  {
   "cell_type": "markdown",
   "id": "802b9731",
   "metadata": {
    "id": "802b9731"
   },
   "source": [
    "## Hierarchical Clustering"
   ]
  },
  {
   "cell_type": "markdown",
   "id": "b5065531-72a7-4233-8779-3a8f5e853636",
   "metadata": {},
   "source": [
    "Let's take a sample of 25 from `X` and use hierarchical clustering to cluster them:"
   ]
  },
  {
   "cell_type": "code",
   "execution_count": 20,
   "id": "cdb6c71c",
   "metadata": {
    "id": "cdb6c71c"
   },
   "outputs": [],
   "source": [
    "np.random.seed(156)\n",
    "X_sample = X.sample(25, random_state=146)"
   ]
  },
  {
   "cell_type": "markdown",
   "id": "dc145300-6407-4c5a-a7db-fdd012301110",
   "metadata": {
    "id": "6yFDXnU5F607"
   },
   "source": [
    ">__Task 10__\n",
    ">\n",
    ">- Apply hierarchy to `X_sample` with each of linkage criteria: single, complete, average, centroid, and ward\n",
    ">- Plot a dendrogram of each criterion and set `orientation` to `left`"
   ]
  },
  {
   "cell_type": "code",
   "execution_count": null,
   "id": "b5285641-6142-4bea-9fb5-37ad580c5bc4",
   "metadata": {},
   "outputs": [],
   "source": [
    "# Single\n",
    "..."
   ]
  },
  {
   "cell_type": "code",
   "execution_count": null,
   "id": "e2a5a057",
   "metadata": {
    "colab": {
     "base_uri": "https://localhost:8080/",
     "height": 465
    },
    "id": "e2a5a057",
    "outputId": "27491fba-91b3-4c35-8477-02647ff06270"
   },
   "outputs": [],
   "source": [
    "# Complete\n",
    "..."
   ]
  },
  {
   "cell_type": "code",
   "execution_count": null,
   "id": "6f5cd913",
   "metadata": {
    "colab": {
     "base_uri": "https://localhost:8080/",
     "height": 465
    },
    "id": "6f5cd913",
    "outputId": "22aafb11-7b62-454a-e0fd-0bc8e268b2ed"
   },
   "outputs": [],
   "source": [
    "# Average\n",
    "..."
   ]
  },
  {
   "cell_type": "code",
   "execution_count": null,
   "id": "86b27a7f",
   "metadata": {
    "colab": {
     "base_uri": "https://localhost:8080/",
     "height": 465
    },
    "id": "86b27a7f",
    "outputId": "67217a4b-b27c-4240-acf7-ce3b45181961"
   },
   "outputs": [],
   "source": [
    "# Centroid\n",
    "..."
   ]
  },
  {
   "cell_type": "code",
   "execution_count": null,
   "id": "2ec12160",
   "metadata": {
    "colab": {
     "base_uri": "https://localhost:8080/",
     "height": 465
    },
    "id": "2ec12160",
    "outputId": "607dc2f8-4f1f-4bc1-b91f-f5dd7a9ef16c"
   },
   "outputs": [],
   "source": [
    "# Ward\n",
    "..."
   ]
  },
  {
   "cell_type": "markdown",
   "id": "e2d663a0-3121-4164-9b1c-75275fd7acf0",
   "metadata": {
    "id": "643c0162"
   },
   "source": [
    "### Agglomerative Clustering"
   ]
  },
  {
   "cell_type": "markdown",
   "id": "f76754db-7bcd-4586-83bb-160532e25c54",
   "metadata": {},
   "source": [
    " Now, let's proceed with clustering the entire data set using agglomerative clustering from scikit-learn."
   ]
  },
  {
   "cell_type": "markdown",
   "id": "b6a54cf5-f5f5-45ee-b421-38d51ba8577c",
   "metadata": {
    "id": "CItEhS4cHs8A"
   },
   "source": [
    ">__Task 11__\n",
    ">\n",
    ">- Apply agglomerative clustering with 2 clusters\n",
    ">- Define `cluster_labels` as the result of each sample’s clustering assignment\n",
    ">- Create a scatter plot of __duration__ and __pdays__ variables labelled with `cluster_labels`"
   ]
  },
  {
   "cell_type": "code",
   "execution_count": null,
   "id": "1dfb5d6b",
   "metadata": {
    "id": "1dfb5d6b"
   },
   "outputs": [],
   "source": [
    "..."
   ]
  },
  {
   "cell_type": "markdown",
   "id": "3cb93ff5-082b-47ef-86fb-c9544c198766",
   "metadata": {},
   "source": [
    ">__Task 12__\n",
    ">\n",
    ">- Apply agglomerative clustering with 2 clusters and `complete` linkage\n",
    ">- Define `cluster_labels` as the result of each sample’s clustering assignment\n",
    ">- Create a scatter plot of __duration__ and __pdays__ variables labelled with `cluster_labels`"
   ]
  },
  {
   "cell_type": "code",
   "execution_count": null,
   "id": "9da5267d",
   "metadata": {
    "colab": {
     "base_uri": "https://localhost:8080/",
     "height": 472
    },
    "id": "9da5267d",
    "outputId": "c336ea7e-ea29-4e3b-e04c-53d498a92922"
   },
   "outputs": [],
   "source": [
    "..."
   ]
  }
 ],
 "metadata": {
  "colab": {
   "provenance": [],
   "toc_visible": true
  },
  "kernelspec": {
   "display_name": "Python 3",
   "language": "python",
   "name": "python3"
  },
  "language_info": {
   "codemirror_mode": {
    "name": "ipython",
    "version": 3
   },
   "file_extension": ".py",
   "mimetype": "text/x-python",
   "name": "python",
   "nbconvert_exporter": "python",
   "pygments_lexer": "ipython3",
   "version": "3.10.4"
  }
 },
 "nbformat": 4,
 "nbformat_minor": 5
}
