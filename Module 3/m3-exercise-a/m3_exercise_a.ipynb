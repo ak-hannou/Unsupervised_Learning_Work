{
 "cells": [
  {
   "cell_type": "markdown",
   "id": "23e5cd81",
   "metadata": {
    "id": "23e5cd81"
   },
   "source": [
    "# Module 3: Exercise A"
   ]
  },
  {
   "cell_type": "code",
   "execution_count": 1,
   "id": "2d54bd14",
   "metadata": {
    "id": "2d54bd14"
   },
   "outputs": [],
   "source": [
    "import pandas as pd\n",
    "import seaborn as sns\n",
    "import matplotlib.pyplot as plt\n",
    "import numpy as np"
   ]
  },
  {
   "cell_type": "markdown",
   "id": "0c539d2f",
   "metadata": {
    "id": "0c539d2f"
   },
   "source": [
    "In this exercise, we will work with variables in a cirrhosis dataset to predict the disease’s stage. The target variable is __Stage__, which represents the histologic stage of the disease and can be 1, 2, 3, or 4.\n",
    "\n",
    "Cirrhosis is a late-stage liver condition characterized by fibrosis (scarring), resulting from various liver diseases and conditions, such as hepatitis and chronic alcoholism. The data set includes information gathered from a trial on primary biliary cirrhosis (PBC) conducted at the Mayo Clinic between 1974 and 1984."
   ]
  },
  {
   "cell_type": "markdown",
   "id": "11865459-f925-4f70-99e9-16c3ae19f687",
   "metadata": {},
   "source": [
    "## Data Preprocessing"
   ]
  },
  {
   "cell_type": "code",
   "execution_count": 2,
   "id": "6a13fd3a",
   "metadata": {
    "id": "6a13fd3a"
   },
   "outputs": [
    {
     "data": {
      "text/html": [
       "<div>\n",
       "<style scoped>\n",
       "    .dataframe tbody tr th:only-of-type {\n",
       "        vertical-align: middle;\n",
       "    }\n",
       "\n",
       "    .dataframe tbody tr th {\n",
       "        vertical-align: top;\n",
       "    }\n",
       "\n",
       "    .dataframe thead th {\n",
       "        text-align: right;\n",
       "    }\n",
       "</style>\n",
       "<table border=\"1\" class=\"dataframe\">\n",
       "  <thead>\n",
       "    <tr style=\"text-align: right;\">\n",
       "      <th></th>\n",
       "      <th>ID</th>\n",
       "      <th>Age</th>\n",
       "      <th>Sex</th>\n",
       "      <th>Ascites</th>\n",
       "      <th>Hepatomegaly</th>\n",
       "      <th>Spiders</th>\n",
       "      <th>Edema</th>\n",
       "      <th>Bilirubin</th>\n",
       "      <th>Cholesterol</th>\n",
       "      <th>Albumin</th>\n",
       "      <th>Copper</th>\n",
       "      <th>Alk_Phos</th>\n",
       "      <th>SGOT</th>\n",
       "      <th>Tryglicerides</th>\n",
       "      <th>Platelets</th>\n",
       "      <th>Prothrombin</th>\n",
       "      <th>Stage</th>\n",
       "    </tr>\n",
       "  </thead>\n",
       "  <tbody>\n",
       "    <tr>\n",
       "      <th>0</th>\n",
       "      <td>1</td>\n",
       "      <td>21464</td>\n",
       "      <td>F</td>\n",
       "      <td>Y</td>\n",
       "      <td>Y</td>\n",
       "      <td>Y</td>\n",
       "      <td>Y</td>\n",
       "      <td>14.5</td>\n",
       "      <td>261.0</td>\n",
       "      <td>2.60</td>\n",
       "      <td>156.0</td>\n",
       "      <td>1718.0</td>\n",
       "      <td>137.95</td>\n",
       "      <td>172.0</td>\n",
       "      <td>190.0</td>\n",
       "      <td>12.2</td>\n",
       "      <td>4.0</td>\n",
       "    </tr>\n",
       "    <tr>\n",
       "      <th>1</th>\n",
       "      <td>2</td>\n",
       "      <td>20617</td>\n",
       "      <td>F</td>\n",
       "      <td>N</td>\n",
       "      <td>Y</td>\n",
       "      <td>Y</td>\n",
       "      <td>N</td>\n",
       "      <td>1.1</td>\n",
       "      <td>302.0</td>\n",
       "      <td>4.14</td>\n",
       "      <td>54.0</td>\n",
       "      <td>7394.8</td>\n",
       "      <td>113.52</td>\n",
       "      <td>88.0</td>\n",
       "      <td>221.0</td>\n",
       "      <td>10.6</td>\n",
       "      <td>3.0</td>\n",
       "    </tr>\n",
       "    <tr>\n",
       "      <th>2</th>\n",
       "      <td>3</td>\n",
       "      <td>25594</td>\n",
       "      <td>M</td>\n",
       "      <td>N</td>\n",
       "      <td>N</td>\n",
       "      <td>N</td>\n",
       "      <td>S</td>\n",
       "      <td>1.4</td>\n",
       "      <td>176.0</td>\n",
       "      <td>3.48</td>\n",
       "      <td>210.0</td>\n",
       "      <td>516.0</td>\n",
       "      <td>96.10</td>\n",
       "      <td>55.0</td>\n",
       "      <td>151.0</td>\n",
       "      <td>12.0</td>\n",
       "      <td>4.0</td>\n",
       "    </tr>\n",
       "    <tr>\n",
       "      <th>3</th>\n",
       "      <td>4</td>\n",
       "      <td>19994</td>\n",
       "      <td>F</td>\n",
       "      <td>N</td>\n",
       "      <td>Y</td>\n",
       "      <td>Y</td>\n",
       "      <td>S</td>\n",
       "      <td>1.8</td>\n",
       "      <td>244.0</td>\n",
       "      <td>2.54</td>\n",
       "      <td>64.0</td>\n",
       "      <td>6121.8</td>\n",
       "      <td>60.63</td>\n",
       "      <td>92.0</td>\n",
       "      <td>183.0</td>\n",
       "      <td>10.3</td>\n",
       "      <td>4.0</td>\n",
       "    </tr>\n",
       "    <tr>\n",
       "      <th>4</th>\n",
       "      <td>5</td>\n",
       "      <td>13918</td>\n",
       "      <td>F</td>\n",
       "      <td>N</td>\n",
       "      <td>Y</td>\n",
       "      <td>Y</td>\n",
       "      <td>N</td>\n",
       "      <td>3.4</td>\n",
       "      <td>279.0</td>\n",
       "      <td>3.53</td>\n",
       "      <td>143.0</td>\n",
       "      <td>671.0</td>\n",
       "      <td>113.15</td>\n",
       "      <td>72.0</td>\n",
       "      <td>136.0</td>\n",
       "      <td>10.9</td>\n",
       "      <td>3.0</td>\n",
       "    </tr>\n",
       "  </tbody>\n",
       "</table>\n",
       "</div>"
      ],
      "text/plain": [
       "   ID    Age Sex Ascites Hepatomegaly Spiders Edema  Bilirubin  Cholesterol  \\\n",
       "0   1  21464   F       Y            Y       Y     Y       14.5        261.0   \n",
       "1   2  20617   F       N            Y       Y     N        1.1        302.0   \n",
       "2   3  25594   M       N            N       N     S        1.4        176.0   \n",
       "3   4  19994   F       N            Y       Y     S        1.8        244.0   \n",
       "4   5  13918   F       N            Y       Y     N        3.4        279.0   \n",
       "\n",
       "   Albumin  Copper  Alk_Phos    SGOT  Tryglicerides  Platelets  Prothrombin  \\\n",
       "0     2.60   156.0    1718.0  137.95          172.0      190.0         12.2   \n",
       "1     4.14    54.0    7394.8  113.52           88.0      221.0         10.6   \n",
       "2     3.48   210.0     516.0   96.10           55.0      151.0         12.0   \n",
       "3     2.54    64.0    6121.8   60.63           92.0      183.0         10.3   \n",
       "4     3.53   143.0     671.0  113.15           72.0      136.0         10.9   \n",
       "\n",
       "   Stage  \n",
       "0    4.0  \n",
       "1    3.0  \n",
       "2    4.0  \n",
       "3    4.0  \n",
       "4    3.0  "
      ]
     },
     "execution_count": 2,
     "metadata": {},
     "output_type": "execute_result"
    }
   ],
   "source": [
    "cirr = pd.read_csv('cirrhosis.csv')\n",
    "cirr.head()"
   ]
  },
  {
   "cell_type": "code",
   "execution_count": 3,
   "id": "fd170cf6",
   "metadata": {
    "colab": {
     "base_uri": "https://localhost:8080/"
    },
    "id": "fd170cf6",
    "outputId": "819d272d-7543-4292-a177-a7aaeac23405"
   },
   "outputs": [
    {
     "name": "stdout",
     "output_type": "stream",
     "text": [
      "<class 'pandas.core.frame.DataFrame'>\n",
      "RangeIndex: 418 entries, 0 to 417\n",
      "Data columns (total 17 columns):\n",
      " #   Column         Non-Null Count  Dtype  \n",
      "---  ------         --------------  -----  \n",
      " 0   ID             418 non-null    int64  \n",
      " 1   Age            418 non-null    int64  \n",
      " 2   Sex            418 non-null    object \n",
      " 3   Ascites        312 non-null    object \n",
      " 4   Hepatomegaly   312 non-null    object \n",
      " 5   Spiders        312 non-null    object \n",
      " 6   Edema          418 non-null    object \n",
      " 7   Bilirubin      418 non-null    float64\n",
      " 8   Cholesterol    284 non-null    float64\n",
      " 9   Albumin        418 non-null    float64\n",
      " 10  Copper         310 non-null    float64\n",
      " 11  Alk_Phos       312 non-null    float64\n",
      " 12  SGOT           312 non-null    float64\n",
      " 13  Tryglicerides  282 non-null    float64\n",
      " 14  Platelets      407 non-null    float64\n",
      " 15  Prothrombin    416 non-null    float64\n",
      " 16  Stage          412 non-null    float64\n",
      "dtypes: float64(10), int64(2), object(5)\n",
      "memory usage: 55.6+ KB\n"
     ]
    }
   ],
   "source": [
    "cirr.info()"
   ]
  },
  {
   "cell_type": "markdown",
   "id": "adf24283-0167-4aa4-96aa-8e2fe9d157f1",
   "metadata": {},
   "source": [
    "### Missing Values"
   ]
  },
  {
   "cell_type": "markdown",
   "id": "2c07b2ff-e5af-4092-836d-9f75a47dcc12",
   "metadata": {},
   "source": [
    ">__Task 1__\n",
    ">\n",
    ">Count the number of NAs for each column"
   ]
  },
  {
   "cell_type": "code",
   "execution_count": null,
   "id": "a5e13843-4c40-4017-b60a-4c66a4b9f9db",
   "metadata": {},
   "outputs": [],
   "source": [
    "..."
   ]
  },
  {
   "cell_type": "markdown",
   "id": "0ff3d113-2961-4881-b951-58f620439b94",
   "metadata": {},
   "source": [
    "We see some missing values in some columns, let's deal with them."
   ]
  },
  {
   "cell_type": "markdown",
   "id": "365fde20",
   "metadata": {
    "id": "365fde20"
   },
   "source": [
    ">__Task 2__\n",
    ">\n",
    ">- Drop rows with missing values for string columns: __Sex__, __Ascites__, __Hepatomegaly__, __Spiders__, __Edema__ \n",
    ">- Fill missing values with mean for numerical columns: __Bilirubin__, __Cholesterol__, __Albumin__, __Copper__, __Alk_Phos__, __SGOT__, __Tryglicerides__, __Platelets__, __Prothrombin__\n",
    ">- Drop any missing records in the target variable"
   ]
  },
  {
   "cell_type": "code",
   "execution_count": null,
   "id": "80c71d50",
   "metadata": {
    "colab": {
     "base_uri": "https://localhost:8080/"
    },
    "id": "80c71d50",
    "outputId": "4285d6a6-cfd4-425f-ac22-55605363531d"
   },
   "outputs": [],
   "source": [
    "..."
   ]
  },
  {
   "cell_type": "markdown",
   "id": "d017643d-ece4-4785-8426-c7308973a772",
   "metadata": {},
   "source": [
    "### Categorical Data"
   ]
  },
  {
   "cell_type": "markdown",
   "id": "438731b0-0837-4204-b836-65b8c612e31b",
   "metadata": {},
   "source": [
    "The data set contains many categorical variables. Let's convert them."
   ]
  },
  {
   "cell_type": "markdown",
   "id": "55db3adf",
   "metadata": {
    "id": "55db3adf"
   },
   "source": [
    ">__Task 3__\n",
    ">\n",
    ">- Check values and counts in each value of the columns: __Sex__, __Ascites__, __Hepatomegaly__, __Spiders__, __Edema__\n",
    ">- Convert variables into numerical ones (Hint: create a dictionary and use `.replace` for binary categorical variables, and use `pd.get_dummies` for multi-categorical variables)"
   ]
  },
  {
   "cell_type": "code",
   "execution_count": null,
   "id": "c23f620a",
   "metadata": {
    "colab": {
     "base_uri": "https://localhost:8080/"
    },
    "id": "c23f620a",
    "outputId": "f3fab68a-18b1-4875-d63f-c8ca84a9502b"
   },
   "outputs": [],
   "source": [
    "..."
   ]
  },
  {
   "cell_type": "markdown",
   "id": "a3720a9e-7487-452d-9984-ea3bd132f209",
   "metadata": {},
   "source": [
    "You can double check the results by printing the meta information again:"
   ]
  },
  {
   "cell_type": "code",
   "execution_count": 11,
   "id": "15436b14",
   "metadata": {
    "colab": {
     "base_uri": "https://localhost:8080/"
    },
    "id": "15436b14",
    "outputId": "e91a26ed-27dd-4b55-aaf1-166b432392d6"
   },
   "outputs": [
    {
     "name": "stdout",
     "output_type": "stream",
     "text": [
      "<class 'pandas.core.frame.DataFrame'>\n",
      "Int64Index: 312 entries, 0 to 311\n",
      "Data columns (total 19 columns):\n",
      " #   Column         Non-Null Count  Dtype  \n",
      "---  ------         --------------  -----  \n",
      " 0   ID             312 non-null    int64  \n",
      " 1   Age            312 non-null    int64  \n",
      " 2   Sex            312 non-null    int64  \n",
      " 3   Ascites        312 non-null    int64  \n",
      " 4   Hepatomegaly   312 non-null    int64  \n",
      " 5   Spiders        312 non-null    int64  \n",
      " 6   Bilirubin      312 non-null    float64\n",
      " 7   Cholesterol    312 non-null    float64\n",
      " 8   Albumin        312 non-null    float64\n",
      " 9   Copper         312 non-null    float64\n",
      " 10  Alk_Phos       312 non-null    float64\n",
      " 11  SGOT           312 non-null    float64\n",
      " 12  Tryglicerides  312 non-null    float64\n",
      " 13  Platelets      312 non-null    float64\n",
      " 14  Prothrombin    312 non-null    float64\n",
      " 15  Stage          312 non-null    float64\n",
      " 16  Edema_N        312 non-null    uint8  \n",
      " 17  Edema_S        312 non-null    uint8  \n",
      " 18  Edema_Y        312 non-null    uint8  \n",
      "dtypes: float64(10), int64(6), uint8(3)\n",
      "memory usage: 42.4 KB\n"
     ]
    }
   ],
   "source": [
    "cirr.info()"
   ]
  },
  {
   "cell_type": "markdown",
   "id": "221aaf62-7139-400f-9ed5-e1df9f93fa9d",
   "metadata": {},
   "source": [
    "### Visualization"
   ]
  },
  {
   "cell_type": "markdown",
   "id": "-OaaUMcvECL0",
   "metadata": {
    "id": "-OaaUMcvECL0"
   },
   "source": [
    ">__Task 4__\n",
    ">\n",
    "> Create a scatter plot of two variables __Bilirubin__ and __Cholesterol__ labelled with __Stage__"
   ]
  },
  {
   "cell_type": "code",
   "execution_count": null,
   "id": "fc103d18",
   "metadata": {
    "colab": {
     "base_uri": "https://localhost:8080/",
     "height": 466
    },
    "id": "fc103d18",
    "outputId": "38e423c1-411c-49a1-eeeb-0c2c1be5ce51"
   },
   "outputs": [],
   "source": [
    "..."
   ]
  },
  {
   "cell_type": "markdown",
   "id": "b4e6069f-da43-4ee9-85a9-467dff4a271e",
   "metadata": {},
   "source": [
    "### Data Scaling"
   ]
  },
  {
   "cell_type": "markdown",
   "id": "a7c07d98-93c1-4b39-bbbc-2f1e2d07eea4",
   "metadata": {},
   "source": [
    "K-means algorithm computes the distance between data points and cluster centers. When certain features have a significantly larger scale compared to others, they can disproportionately influence the distance calculations, potentially leading to suboptimal clustering outcomes. Implementing scaling can help alleviate this issue."
   ]
  },
  {
   "cell_type": "markdown",
   "id": "SeBj1Nu9ECL1",
   "metadata": {
    "id": "SeBj1Nu9ECL1"
   },
   "source": [
    ">__Task 5__\n",
    ">\n",
    ">- Define `X` by dropping the __Stage__, __ID__ columns\n",
    ">- Define `y` as the __Stage__ column\n",
    ">- Define `X_scaled` by scaling `X` using `MinMaxScaler`"
   ]
  },
  {
   "cell_type": "code",
   "execution_count": null,
   "id": "8d0dfeb6",
   "metadata": {
    "id": "8d0dfeb6"
   },
   "outputs": [],
   "source": [
    "..."
   ]
  },
  {
   "cell_type": "markdown",
   "id": "29fde519-3000-4971-8281-862fbbc98124",
   "metadata": {},
   "source": [
    "##  K-means Clustering"
   ]
  },
  {
   "cell_type": "markdown",
   "id": "iWeDPC0IECL2",
   "metadata": {
    "id": "iWeDPC0IECL2"
   },
   "source": [
    ">__Task 6__\n",
    ">\n",
    ">- Apply k-means to `X` with 4 clusters and print coordinates of cluster centers\n",
    ">- Print labels of each point\n",
    ">- Create a scatter plot of __Bilirubin__ and __Cholesterol__ variables labelled with point labels"
   ]
  },
  {
   "cell_type": "code",
   "execution_count": null,
   "id": "31569912",
   "metadata": {
    "colab": {
     "base_uri": "https://localhost:8080/"
    },
    "id": "31569912",
    "outputId": "37561fc3-3dd0-4755-88d7-29177efba910"
   },
   "outputs": [],
   "source": [
    "..."
   ]
  },
  {
   "cell_type": "markdown",
   "id": "839e010a-f5bb-43b8-a6bc-e1bfa4de2bf6",
   "metadata": {},
   "source": [
    ">__Task 7__\n",
    ">\n",
    ">- Apply k-means to `X_scaled` with 4 clusters and print coordinates of cluster centers\n",
    ">- Print labels of each point\n",
    ">- Create a scatter plot of __Bilirubin__ and __Cholesterol__ variables labelled with point labels"
   ]
  },
  {
   "cell_type": "code",
   "execution_count": null,
   "id": "RtgC-hcJFDfx",
   "metadata": {
    "colab": {
     "base_uri": "https://localhost:8080/"
    },
    "id": "RtgC-hcJFDfx",
    "outputId": "5269e855-7acb-4c7c-dbda-15291821a01a"
   },
   "outputs": [],
   "source": [
    "..."
   ]
  },
  {
   "cell_type": "markdown",
   "id": "af0b8d4d",
   "metadata": {
    "id": "af0b8d4d"
   },
   "source": [
    "The clustering results show some differences between unscaled and scaled variables."
   ]
  },
  {
   "cell_type": "markdown",
   "id": "802b9731",
   "metadata": {
    "id": "802b9731"
   },
   "source": [
    "## Hierarchical Clustering"
   ]
  },
  {
   "cell_type": "markdown",
   "id": "27c3bd7b-f9ed-46ef-98a2-649cd94f5346",
   "metadata": {},
   "source": [
    "Let's take a sample of 25 from `X` and use hierarchical clustering to cluster them:"
   ]
  },
  {
   "cell_type": "code",
   "execution_count": 20,
   "id": "cdb6c71c",
   "metadata": {
    "id": "cdb6c71c"
   },
   "outputs": [],
   "source": [
    "np.random.seed(156)\n",
    "X_sample = X.sample(25, random_state=146)"
   ]
  },
  {
   "cell_type": "markdown",
   "id": "6yFDXnU5F607",
   "metadata": {
    "id": "6yFDXnU5F607"
   },
   "source": [
    ">__Task 8__\n",
    ">\n",
    ">- Apply hierarchy to `X_sample` with each of linkage criteria: single, complete, average, centroid, and ward\n",
    ">- Plot a dendrogram of each criterion and set `orientation` to `left`"
   ]
  },
  {
   "cell_type": "code",
   "execution_count": null,
   "id": "e2a5a057",
   "metadata": {
    "colab": {
     "base_uri": "https://localhost:8080/",
     "height": 465
    },
    "id": "e2a5a057",
    "outputId": "f90d8ffc-2c74-4b84-b367-fae3789f6a43"
   },
   "outputs": [],
   "source": [
    "# Single\n",
    "..."
   ]
  },
  {
   "cell_type": "code",
   "execution_count": null,
   "id": "9675ccbe-fe78-45e7-8878-102c04f4fa38",
   "metadata": {},
   "outputs": [],
   "source": [
    "# Complete\n",
    "..."
   ]
  },
  {
   "cell_type": "code",
   "execution_count": null,
   "id": "6f5cd913",
   "metadata": {
    "colab": {
     "base_uri": "https://localhost:8080/",
     "height": 465
    },
    "id": "6f5cd913",
    "outputId": "f2554665-fec9-45b6-aad4-228fd6145984"
   },
   "outputs": [],
   "source": [
    "# Average\n",
    "..."
   ]
  },
  {
   "cell_type": "code",
   "execution_count": null,
   "id": "86b27a7f",
   "metadata": {
    "colab": {
     "base_uri": "https://localhost:8080/",
     "height": 465
    },
    "id": "86b27a7f",
    "outputId": "c9100f4d-c439-4a76-ec89-7e0f156c2637"
   },
   "outputs": [],
   "source": [
    "# Centroid\n",
    "..."
   ]
  },
  {
   "cell_type": "code",
   "execution_count": null,
   "id": "2ec12160",
   "metadata": {
    "colab": {
     "base_uri": "https://localhost:8080/",
     "height": 465
    },
    "id": "2ec12160",
    "outputId": "67611e0c-2cfe-4a07-d32f-3d6693dfde9a"
   },
   "outputs": [],
   "source": [
    "# Ward\n",
    "..."
   ]
  },
  {
   "cell_type": "markdown",
   "id": "643c0162",
   "metadata": {
    "id": "643c0162"
   },
   "source": [
    "### Agglomerative Clustering"
   ]
  },
  {
   "cell_type": "markdown",
   "id": "ed01d247-7286-4c9e-a311-d13c60b88ef7",
   "metadata": {},
   "source": [
    " Now, let's proceed with clustering the entire data set using agglomerative clustering from scikit-learn."
   ]
  },
  {
   "cell_type": "markdown",
   "id": "CItEhS4cHs8A",
   "metadata": {
    "id": "CItEhS4cHs8A"
   },
   "source": [
    ">__Task 9__\n",
    ">\n",
    ">- Apply agglomerative clustering with 4 clusters\n",
    ">- Define `cluster_labels` as the result of each sample’s clustering assignment\n",
    ">- Create a scatter plot of __SGOT__ and __Albumin__ variables labelled with `cluster_labels`"
   ]
  },
  {
   "cell_type": "code",
   "execution_count": null,
   "id": "2db5dba6",
   "metadata": {
    "id": "2db5dba6"
   },
   "outputs": [],
   "source": [
    "..."
   ]
  },
  {
   "cell_type": "markdown",
   "id": "142491a3-f9fd-45bb-8fe7-56ff527f5f4f",
   "metadata": {},
   "source": [
    ">__Task 10__\n",
    ">\n",
    ">- Apply agglomerative clustering with 4 clusters and `complete` linkage\n",
    ">- Define `cluster_labels` as the result of each sample’s clustering assignment\n",
    ">- Create a scatter plot of __SGOT__ and __Albumin__ variables labelled with `cluster_labels`"
   ]
  },
  {
   "cell_type": "code",
   "execution_count": null,
   "id": "9da5267d",
   "metadata": {
    "colab": {
     "base_uri": "https://localhost:8080/",
     "height": 472
    },
    "id": "9da5267d",
    "outputId": "02514050-9427-4e35-af7b-bb87d770e470"
   },
   "outputs": [],
   "source": [
    "..."
   ]
  }
 ],
 "metadata": {
  "colab": {
   "provenance": [],
   "toc_visible": true
  },
  "kernelspec": {
   "display_name": "Python 3",
   "language": "python",
   "name": "python3"
  },
  "language_info": {
   "codemirror_mode": {
    "name": "ipython",
    "version": 3
   },
   "file_extension": ".py",
   "mimetype": "text/x-python",
   "name": "python",
   "nbconvert_exporter": "python",
   "pygments_lexer": "ipython3",
   "version": "3.10.4"
  }
 },
 "nbformat": 4,
 "nbformat_minor": 5
}
