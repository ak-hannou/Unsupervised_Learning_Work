{
 "cells": [
  {
   "cell_type": "markdown",
   "id": "995c96b5",
   "metadata": {},
   "source": [
    "# Module 2: Exercise A"
   ]
  },
  {
   "cell_type": "code",
   "execution_count": 79,
   "id": "2d54bd14",
   "metadata": {},
   "outputs": [],
   "source": [
    "import pandas as pd\n",
    "import numpy as np\n",
    "import seaborn as sns\n",
    "import matplotlib.pyplot as plt\n",
    "%matplotlib inline"
   ]
  },
  {
   "cell_type": "markdown",
   "id": "1554056e-ce51-4d00-a7cd-1e285ca99008",
   "metadata": {},
   "source": [
    "In this exercise, we will apply a PCA model to the breast cancer dataset, reduce the dimensionality of the data, and subsequently fit a logistic regression model using both the original and reduced datasets."
   ]
  },
  {
   "cell_type": "markdown",
   "id": "35d1b0b9-79b6-4161-855f-a1826cff9114",
   "metadata": {},
   "source": [
    "## Data Preprocessing"
   ]
  },
  {
   "cell_type": "markdown",
   "id": "441ef2da-7021-4ada-90ba-5755f2e821e5",
   "metadata": {},
   "source": [
    "Let’s begin by importing the data and creating some visualizations."
   ]
  },
  {
   "cell_type": "code",
   "execution_count": 80,
   "id": "638085bd",
   "metadata": {},
   "outputs": [
    {
     "data": {
      "text/html": [
       "<div>\n",
       "<style scoped>\n",
       "    .dataframe tbody tr th:only-of-type {\n",
       "        vertical-align: middle;\n",
       "    }\n",
       "\n",
       "    .dataframe tbody tr th {\n",
       "        vertical-align: top;\n",
       "    }\n",
       "\n",
       "    .dataframe thead th {\n",
       "        text-align: right;\n",
       "    }\n",
       "</style>\n",
       "<table border=\"1\" class=\"dataframe\">\n",
       "  <thead>\n",
       "    <tr style=\"text-align: right;\">\n",
       "      <th></th>\n",
       "      <th>mean radius</th>\n",
       "      <th>mean texture</th>\n",
       "      <th>mean perimeter</th>\n",
       "      <th>mean area</th>\n",
       "      <th>mean smoothness</th>\n",
       "      <th>mean compactness</th>\n",
       "      <th>mean concavity</th>\n",
       "      <th>mean concave points</th>\n",
       "      <th>mean symmetry</th>\n",
       "      <th>mean fractal dimension</th>\n",
       "      <th>...</th>\n",
       "      <th>worst radius</th>\n",
       "      <th>worst texture</th>\n",
       "      <th>worst perimeter</th>\n",
       "      <th>worst area</th>\n",
       "      <th>worst smoothness</th>\n",
       "      <th>worst compactness</th>\n",
       "      <th>worst concavity</th>\n",
       "      <th>worst concave points</th>\n",
       "      <th>worst symmetry</th>\n",
       "      <th>worst fractal dimension</th>\n",
       "    </tr>\n",
       "  </thead>\n",
       "  <tbody>\n",
       "    <tr>\n",
       "      <th>0</th>\n",
       "      <td>17.99</td>\n",
       "      <td>10.38</td>\n",
       "      <td>122.80</td>\n",
       "      <td>1001.0</td>\n",
       "      <td>0.11840</td>\n",
       "      <td>0.27760</td>\n",
       "      <td>0.3001</td>\n",
       "      <td>0.14710</td>\n",
       "      <td>0.2419</td>\n",
       "      <td>0.07871</td>\n",
       "      <td>...</td>\n",
       "      <td>25.38</td>\n",
       "      <td>17.33</td>\n",
       "      <td>184.60</td>\n",
       "      <td>2019.0</td>\n",
       "      <td>0.1622</td>\n",
       "      <td>0.6656</td>\n",
       "      <td>0.7119</td>\n",
       "      <td>0.2654</td>\n",
       "      <td>0.4601</td>\n",
       "      <td>0.11890</td>\n",
       "    </tr>\n",
       "    <tr>\n",
       "      <th>1</th>\n",
       "      <td>20.57</td>\n",
       "      <td>17.77</td>\n",
       "      <td>132.90</td>\n",
       "      <td>1326.0</td>\n",
       "      <td>0.08474</td>\n",
       "      <td>0.07864</td>\n",
       "      <td>0.0869</td>\n",
       "      <td>0.07017</td>\n",
       "      <td>0.1812</td>\n",
       "      <td>0.05667</td>\n",
       "      <td>...</td>\n",
       "      <td>24.99</td>\n",
       "      <td>23.41</td>\n",
       "      <td>158.80</td>\n",
       "      <td>1956.0</td>\n",
       "      <td>0.1238</td>\n",
       "      <td>0.1866</td>\n",
       "      <td>0.2416</td>\n",
       "      <td>0.1860</td>\n",
       "      <td>0.2750</td>\n",
       "      <td>0.08902</td>\n",
       "    </tr>\n",
       "    <tr>\n",
       "      <th>2</th>\n",
       "      <td>19.69</td>\n",
       "      <td>21.25</td>\n",
       "      <td>130.00</td>\n",
       "      <td>1203.0</td>\n",
       "      <td>0.10960</td>\n",
       "      <td>0.15990</td>\n",
       "      <td>0.1974</td>\n",
       "      <td>0.12790</td>\n",
       "      <td>0.2069</td>\n",
       "      <td>0.05999</td>\n",
       "      <td>...</td>\n",
       "      <td>23.57</td>\n",
       "      <td>25.53</td>\n",
       "      <td>152.50</td>\n",
       "      <td>1709.0</td>\n",
       "      <td>0.1444</td>\n",
       "      <td>0.4245</td>\n",
       "      <td>0.4504</td>\n",
       "      <td>0.2430</td>\n",
       "      <td>0.3613</td>\n",
       "      <td>0.08758</td>\n",
       "    </tr>\n",
       "    <tr>\n",
       "      <th>3</th>\n",
       "      <td>11.42</td>\n",
       "      <td>20.38</td>\n",
       "      <td>77.58</td>\n",
       "      <td>386.1</td>\n",
       "      <td>0.14250</td>\n",
       "      <td>0.28390</td>\n",
       "      <td>0.2414</td>\n",
       "      <td>0.10520</td>\n",
       "      <td>0.2597</td>\n",
       "      <td>0.09744</td>\n",
       "      <td>...</td>\n",
       "      <td>14.91</td>\n",
       "      <td>26.50</td>\n",
       "      <td>98.87</td>\n",
       "      <td>567.7</td>\n",
       "      <td>0.2098</td>\n",
       "      <td>0.8663</td>\n",
       "      <td>0.6869</td>\n",
       "      <td>0.2575</td>\n",
       "      <td>0.6638</td>\n",
       "      <td>0.17300</td>\n",
       "    </tr>\n",
       "    <tr>\n",
       "      <th>4</th>\n",
       "      <td>20.29</td>\n",
       "      <td>14.34</td>\n",
       "      <td>135.10</td>\n",
       "      <td>1297.0</td>\n",
       "      <td>0.10030</td>\n",
       "      <td>0.13280</td>\n",
       "      <td>0.1980</td>\n",
       "      <td>0.10430</td>\n",
       "      <td>0.1809</td>\n",
       "      <td>0.05883</td>\n",
       "      <td>...</td>\n",
       "      <td>22.54</td>\n",
       "      <td>16.67</td>\n",
       "      <td>152.20</td>\n",
       "      <td>1575.0</td>\n",
       "      <td>0.1374</td>\n",
       "      <td>0.2050</td>\n",
       "      <td>0.4000</td>\n",
       "      <td>0.1625</td>\n",
       "      <td>0.2364</td>\n",
       "      <td>0.07678</td>\n",
       "    </tr>\n",
       "  </tbody>\n",
       "</table>\n",
       "<p>5 rows × 30 columns</p>\n",
       "</div>"
      ],
      "text/plain": [
       "   mean radius  mean texture  mean perimeter  mean area  mean smoothness  \\\n",
       "0        17.99         10.38          122.80     1001.0          0.11840   \n",
       "1        20.57         17.77          132.90     1326.0          0.08474   \n",
       "2        19.69         21.25          130.00     1203.0          0.10960   \n",
       "3        11.42         20.38           77.58      386.1          0.14250   \n",
       "4        20.29         14.34          135.10     1297.0          0.10030   \n",
       "\n",
       "   mean compactness  mean concavity  mean concave points  mean symmetry  \\\n",
       "0           0.27760          0.3001              0.14710         0.2419   \n",
       "1           0.07864          0.0869              0.07017         0.1812   \n",
       "2           0.15990          0.1974              0.12790         0.2069   \n",
       "3           0.28390          0.2414              0.10520         0.2597   \n",
       "4           0.13280          0.1980              0.10430         0.1809   \n",
       "\n",
       "   mean fractal dimension  ...  worst radius  worst texture  worst perimeter  \\\n",
       "0                 0.07871  ...         25.38          17.33           184.60   \n",
       "1                 0.05667  ...         24.99          23.41           158.80   \n",
       "2                 0.05999  ...         23.57          25.53           152.50   \n",
       "3                 0.09744  ...         14.91          26.50            98.87   \n",
       "4                 0.05883  ...         22.54          16.67           152.20   \n",
       "\n",
       "   worst area  worst smoothness  worst compactness  worst concavity  \\\n",
       "0      2019.0            0.1622             0.6656           0.7119   \n",
       "1      1956.0            0.1238             0.1866           0.2416   \n",
       "2      1709.0            0.1444             0.4245           0.4504   \n",
       "3       567.7            0.2098             0.8663           0.6869   \n",
       "4      1575.0            0.1374             0.2050           0.4000   \n",
       "\n",
       "   worst concave points  worst symmetry  worst fractal dimension  \n",
       "0                0.2654          0.4601                  0.11890  \n",
       "1                0.1860          0.2750                  0.08902  \n",
       "2                0.2430          0.3613                  0.08758  \n",
       "3                0.2575          0.6638                  0.17300  \n",
       "4                0.1625          0.2364                  0.07678  \n",
       "\n",
       "[5 rows x 30 columns]"
      ]
     },
     "execution_count": 80,
     "metadata": {},
     "output_type": "execute_result"
    }
   ],
   "source": [
    "from sklearn.datasets import load_breast_cancer\n",
    "X_bc, y_bc = load_breast_cancer(return_X_y=True, as_frame=True)\n",
    "X_bc.head()"
   ]
  },
  {
   "cell_type": "markdown",
   "id": "4e3b0230-b5d1-452d-b822-edb8378fca4a",
   "metadata": {},
   "source": [
    ">__Task 1__\n",
    ">\n",
    ">- Check unique values in `y_bc`\n",
    ">- Plot the count of each class"
   ]
  },
  {
   "cell_type": "code",
   "execution_count": 81,
   "id": "96e9aa2b",
   "metadata": {},
   "outputs": [
    {
     "name": "stdout",
     "output_type": "stream",
     "text": [
      "target\n",
      "1    357\n",
      "0    212\n",
      "Name: count, dtype: int64\n"
     ]
    },
    {
     "data": {
      "text/plain": [
       "<Axes: xlabel='target', ylabel='count'>"
      ]
     },
     "execution_count": 81,
     "metadata": {},
     "output_type": "execute_result"
    },
    {
     "data": {
      "image/png": "[encoded data removed]",
      "text/plain": [
       "<Figure size 640x480 with 1 Axes>"
      ]
     },
     "metadata": {},
     "output_type": "display_data"
    }
   ],
   "source": [
    "print(y_bc.value_counts())\n",
    "# Plotting the distribution of the target variable\n",
    "sns.countplot(x=y_bc)\n"
   ]
  },
  {
   "cell_type": "markdown",
   "id": "8d2372d3-221c-4bcb-93b2-31bc6c0ec1bc",
   "metadata": {},
   "source": [
    "### Split the Data"
   ]
  },
  {
   "cell_type": "markdown",
   "id": "567c08eb-9f86-46ba-b544-621a8158abd4",
   "metadata": {},
   "source": [
    ">__Task 2__\n",
    ">\n",
    ">Split the data into `X_train`, `X_test`, `y_train`, `y_test` \n",
    ">\n",
    ">- Set a 80(train):20(test) ratio\n",
    ">- Set 156 randomness and use stratified split"
   ]
  },
  {
   "cell_type": "code",
   "execution_count": 82,
   "id": "d351bcc6",
   "metadata": {},
   "outputs": [],
   "source": [
    "from sklearn.model_selection import train_test_split\n",
    "X_train, X_test, y_train, y_test = train_test_split(X_bc, y_bc, test_size=0.2, random_state=156, stratify=y_bc)"
   ]
  },
  {
   "cell_type": "markdown",
   "id": "7f6f5563-f5df-4b32-98d5-e90f542b441e",
   "metadata": {},
   "source": [
    "### Standardize the Data"
   ]
  },
  {
   "cell_type": "markdown",
   "id": "b7c87200",
   "metadata": {
    "tags": []
   },
   "source": [
    ">__Task 3__\n",
    ">\n",
    ">Standardize both train and test sets\n",
    ">\n",
    ">- Fit the scaler to the train set\n",
    ">- Transform both train and test sets using the fitted scaler "
   ]
  },
  {
   "cell_type": "code",
   "execution_count": 83,
   "id": "48153f4b",
   "metadata": {},
   "outputs": [],
   "source": [
    "from sklearn.preprocessing import StandardScaler\n",
    "#Not sure which scaler to use, but StandardScaler is a common choice\n",
    "scaler = StandardScaler()\n",
    "X_train_scaled = scaler.fit_transform(X_train)\n",
    "X_test_scaled = scaler.transform(X_test)\n"
   ]
  },
  {
   "cell_type": "markdown",
   "id": "e7ee6333-f1d8-405b-859f-abc600e5eff5",
   "metadata": {},
   "source": [
    "## PCA Implementation"
   ]
  },
  {
   "cell_type": "markdown",
   "id": "369dfa4b",
   "metadata": {
    "tags": []
   },
   "source": [
    ">__Task 4__\n",
    ">\n",
    ">- Fit a PCA model on the train set\n",
    ">- Transform both train and test sets\n",
    ">- Save the transformed data in DataFrame named `X_train_pca` and `X_test_pca` respectively\n",
    ">- Check out the first 5 rows of the transformed data points in the test set"
   ]
  },
  {
   "cell_type": "code",
   "execution_count": 84,
   "id": "3cd91397",
   "metadata": {},
   "outputs": [
    {
     "data": {
      "text/html": [
       "<div>\n",
       "<style scoped>\n",
       "    .dataframe tbody tr th:only-of-type {\n",
       "        vertical-align: middle;\n",
       "    }\n",
       "\n",
       "    .dataframe tbody tr th {\n",
       "        vertical-align: top;\n",
       "    }\n",
       "\n",
       "    .dataframe thead th {\n",
       "        text-align: right;\n",
       "    }\n",
       "</style>\n",
       "<table border=\"1\" class=\"dataframe\">\n",
       "  <thead>\n",
       "    <tr style=\"text-align: right;\">\n",
       "      <th></th>\n",
       "      <th>PA0</th>\n",
       "      <th>PA1</th>\n",
       "      <th>PA2</th>\n",
       "      <th>PA3</th>\n",
       "      <th>PA4</th>\n",
       "      <th>PA5</th>\n",
       "      <th>PA6</th>\n",
       "      <th>PA7</th>\n",
       "      <th>PA8</th>\n",
       "      <th>PA9</th>\n",
       "      <th>...</th>\n",
       "      <th>PA20</th>\n",
       "      <th>PA21</th>\n",
       "      <th>PA22</th>\n",
       "      <th>PA23</th>\n",
       "      <th>PA24</th>\n",
       "      <th>PA25</th>\n",
       "      <th>PA26</th>\n",
       "      <th>PA27</th>\n",
       "      <th>PA28</th>\n",
       "      <th>PA29</th>\n",
       "    </tr>\n",
       "  </thead>\n",
       "  <tbody>\n",
       "    <tr>\n",
       "      <th>0</th>\n",
       "      <td>2.790444</td>\n",
       "      <td>0.589478</td>\n",
       "      <td>-0.596094</td>\n",
       "      <td>-0.535393</td>\n",
       "      <td>-0.268089</td>\n",
       "      <td>-1.018104</td>\n",
       "      <td>-1.020964</td>\n",
       "      <td>0.147608</td>\n",
       "      <td>-0.729606</td>\n",
       "      <td>-0.755973</td>\n",
       "      <td>...</td>\n",
       "      <td>-0.418358</td>\n",
       "      <td>-0.170959</td>\n",
       "      <td>-0.021548</td>\n",
       "      <td>-0.167074</td>\n",
       "      <td>0.053131</td>\n",
       "      <td>-0.077712</td>\n",
       "      <td>0.034234</td>\n",
       "      <td>-0.035689</td>\n",
       "      <td>0.015671</td>\n",
       "      <td>0.012372</td>\n",
       "    </tr>\n",
       "    <tr>\n",
       "      <th>1</th>\n",
       "      <td>-1.721493</td>\n",
       "      <td>1.079954</td>\n",
       "      <td>-0.228953</td>\n",
       "      <td>-0.942461</td>\n",
       "      <td>1.536212</td>\n",
       "      <td>-0.627956</td>\n",
       "      <td>-0.262815</td>\n",
       "      <td>-0.305329</td>\n",
       "      <td>-0.332789</td>\n",
       "      <td>-0.198433</td>\n",
       "      <td>...</td>\n",
       "      <td>-0.042519</td>\n",
       "      <td>0.083510</td>\n",
       "      <td>0.052309</td>\n",
       "      <td>-0.101461</td>\n",
       "      <td>-0.156671</td>\n",
       "      <td>0.062520</td>\n",
       "      <td>-0.093082</td>\n",
       "      <td>-0.001285</td>\n",
       "      <td>-0.002295</td>\n",
       "      <td>0.007257</td>\n",
       "    </tr>\n",
       "    <tr>\n",
       "      <th>2</th>\n",
       "      <td>-2.039632</td>\n",
       "      <td>0.317425</td>\n",
       "      <td>-0.568426</td>\n",
       "      <td>0.497581</td>\n",
       "      <td>0.117768</td>\n",
       "      <td>-1.291312</td>\n",
       "      <td>0.455430</td>\n",
       "      <td>0.250485</td>\n",
       "      <td>-0.637945</td>\n",
       "      <td>0.202307</td>\n",
       "      <td>...</td>\n",
       "      <td>0.004203</td>\n",
       "      <td>-0.244172</td>\n",
       "      <td>-0.150892</td>\n",
       "      <td>-0.030699</td>\n",
       "      <td>0.039402</td>\n",
       "      <td>-0.039338</td>\n",
       "      <td>-0.029955</td>\n",
       "      <td>-0.021121</td>\n",
       "      <td>0.003279</td>\n",
       "      <td>0.001090</td>\n",
       "    </tr>\n",
       "    <tr>\n",
       "      <th>3</th>\n",
       "      <td>-2.712664</td>\n",
       "      <td>1.106718</td>\n",
       "      <td>1.736415</td>\n",
       "      <td>0.375546</td>\n",
       "      <td>-1.127114</td>\n",
       "      <td>1.548907</td>\n",
       "      <td>0.375983</td>\n",
       "      <td>-1.152130</td>\n",
       "      <td>-0.076888</td>\n",
       "      <td>-0.060419</td>\n",
       "      <td>...</td>\n",
       "      <td>0.239652</td>\n",
       "      <td>-0.072480</td>\n",
       "      <td>-0.100787</td>\n",
       "      <td>0.012950</td>\n",
       "      <td>-0.028015</td>\n",
       "      <td>0.069201</td>\n",
       "      <td>-0.041804</td>\n",
       "      <td>0.020527</td>\n",
       "      <td>0.017710</td>\n",
       "      <td>0.006019</td>\n",
       "    </tr>\n",
       "    <tr>\n",
       "      <th>4</th>\n",
       "      <td>-1.436610</td>\n",
       "      <td>0.422429</td>\n",
       "      <td>0.515166</td>\n",
       "      <td>-0.204160</td>\n",
       "      <td>2.447068</td>\n",
       "      <td>1.733403</td>\n",
       "      <td>-0.687220</td>\n",
       "      <td>-1.298511</td>\n",
       "      <td>-0.785322</td>\n",
       "      <td>1.062185</td>\n",
       "      <td>...</td>\n",
       "      <td>0.030187</td>\n",
       "      <td>-0.051170</td>\n",
       "      <td>0.041520</td>\n",
       "      <td>-0.070161</td>\n",
       "      <td>0.036783</td>\n",
       "      <td>-0.049611</td>\n",
       "      <td>-0.038658</td>\n",
       "      <td>-0.026260</td>\n",
       "      <td>0.000630</td>\n",
       "      <td>0.011413</td>\n",
       "    </tr>\n",
       "  </tbody>\n",
       "</table>\n",
       "<p>5 rows × 30 columns</p>\n",
       "</div>"
      ],
      "text/plain": [
       "        PA0       PA1       PA2       PA3       PA4       PA5       PA6  \\\n",
       "0  2.790444  0.589478 -0.596094 -0.535393 -0.268089 -1.018104 -1.020964   \n",
       "1 -1.721493  1.079954 -0.228953 -0.942461  1.536212 -0.627956 -0.262815   \n",
       "2 -2.039632  0.317425 -0.568426  0.497581  0.117768 -1.291312  0.455430   \n",
       "3 -2.712664  1.106718  1.736415  0.375546 -1.127114  1.548907  0.375983   \n",
       "4 -1.436610  0.422429  0.515166 -0.204160  2.447068  1.733403 -0.687220   \n",
       "\n",
       "        PA7       PA8       PA9  ...      PA20      PA21      PA22      PA23  \\\n",
       "0  0.147608 -0.729606 -0.755973  ... -0.418358 -0.170959 -0.021548 -0.167074   \n",
       "1 -0.305329 -0.332789 -0.198433  ... -0.042519  0.083510  0.052309 -0.101461   \n",
       "2  0.250485 -0.637945  0.202307  ...  0.004203 -0.244172 -0.150892 -0.030699   \n",
       "3 -1.152130 -0.076888 -0.060419  ...  0.239652 -0.072480 -0.100787  0.012950   \n",
       "4 -1.298511 -0.785322  1.062185  ...  0.030187 -0.051170  0.041520 -0.070161   \n",
       "\n",
       "       PA24      PA25      PA26      PA27      PA28      PA29  \n",
       "0  0.053131 -0.077712  0.034234 -0.035689  0.015671  0.012372  \n",
       "1 -0.156671  0.062520 -0.093082 -0.001285 -0.002295  0.007257  \n",
       "2  0.039402 -0.039338 -0.029955 -0.021121  0.003279  0.001090  \n",
       "3 -0.028015  0.069201 -0.041804  0.020527  0.017710  0.006019  \n",
       "4  0.036783 -0.049611 -0.038658 -0.026260  0.000630  0.011413  \n",
       "\n",
       "[5 rows x 30 columns]"
      ]
     },
     "execution_count": 84,
     "metadata": {},
     "output_type": "execute_result"
    }
   ],
   "source": [
    "#Fit a PCA model on the training data\n",
    "from sklearn.decomposition import PCA\n",
    "pca = PCA()\n",
    "X_train_pca = pca.fit_transform(X_train_scaled)\n",
    "X_test_pca = pca.transform(X_test_scaled)\n",
    "\n",
    "X_train_pca = pd.DataFrame(X_train_pca, columns=['PA%s'%i for i in range(30)])\n",
    "X_test_pca = pd.DataFrame(X_test_pca, columns=['PA%s'%i for i in range(30)])\n",
    "\n",
    "\n",
    "X_test_pca.head()\n",
    "\n"
   ]
  },
  {
   "cell_type": "markdown",
   "id": "b5392289-bc27-4852-a7d0-a1f00cbcf791",
   "metadata": {},
   "source": [
    ">__Task 5__\n",
    ">\n",
    ">- Print the weight of the first feature (column) in the first principal component (PC)\n",
    ">- Save PCs into a DataFrame and print out the first 5 PCs"
   ]
  },
  {
   "cell_type": "code",
   "execution_count": 85,
   "id": "8d56d7b4",
   "metadata": {},
   "outputs": [
    {
     "data": {
      "text/html": [
       "<div>\n",
       "<style scoped>\n",
       "    .dataframe tbody tr th:only-of-type {\n",
       "        vertical-align: middle;\n",
       "    }\n",
       "\n",
       "    .dataframe tbody tr th {\n",
       "        vertical-align: top;\n",
       "    }\n",
       "\n",
       "    .dataframe thead th {\n",
       "        text-align: right;\n",
       "    }\n",
       "</style>\n",
       "<table border=\"1\" class=\"dataframe\">\n",
       "  <thead>\n",
       "    <tr style=\"text-align: right;\">\n",
       "      <th></th>\n",
       "      <th>PC0</th>\n",
       "      <th>PC1</th>\n",
       "      <th>PC2</th>\n",
       "      <th>PC3</th>\n",
       "      <th>PC4</th>\n",
       "      <th>PC5</th>\n",
       "      <th>PC6</th>\n",
       "      <th>PC7</th>\n",
       "      <th>PC8</th>\n",
       "      <th>PC9</th>\n",
       "      <th>...</th>\n",
       "      <th>PC20</th>\n",
       "      <th>PC21</th>\n",
       "      <th>PC22</th>\n",
       "      <th>PC23</th>\n",
       "      <th>PC24</th>\n",
       "      <th>PC25</th>\n",
       "      <th>PC26</th>\n",
       "      <th>PC27</th>\n",
       "      <th>PC28</th>\n",
       "      <th>PC29</th>\n",
       "    </tr>\n",
       "  </thead>\n",
       "  <tbody>\n",
       "    <tr>\n",
       "      <th>0</th>\n",
       "      <td>0.217829</td>\n",
       "      <td>-0.231229</td>\n",
       "      <td>-0.010149</td>\n",
       "      <td>-0.048135</td>\n",
       "      <td>-0.031302</td>\n",
       "      <td>0.024503</td>\n",
       "      <td>-0.145092</td>\n",
       "      <td>0.109803</td>\n",
       "      <td>0.159186</td>\n",
       "      <td>0.165455</td>\n",
       "      <td>...</td>\n",
       "      <td>-0.022253</td>\n",
       "      <td>0.011506</td>\n",
       "      <td>0.239516</td>\n",
       "      <td>0.131387</td>\n",
       "      <td>-0.003518</td>\n",
       "      <td>-0.166028</td>\n",
       "      <td>0.100397</td>\n",
       "      <td>-0.247441</td>\n",
       "      <td>-0.183307</td>\n",
       "      <td>-0.695948</td>\n",
       "    </tr>\n",
       "    <tr>\n",
       "      <th>1</th>\n",
       "      <td>0.097814</td>\n",
       "      <td>-0.072202</td>\n",
       "      <td>0.105933</td>\n",
       "      <td>0.599935</td>\n",
       "      <td>0.005302</td>\n",
       "      <td>-0.049953</td>\n",
       "      <td>0.004195</td>\n",
       "      <td>0.046949</td>\n",
       "      <td>-0.195529</td>\n",
       "      <td>0.165716</td>\n",
       "      <td>...</td>\n",
       "      <td>-0.281078</td>\n",
       "      <td>-0.354753</td>\n",
       "      <td>-0.249302</td>\n",
       "      <td>-0.082589</td>\n",
       "      <td>-0.084216</td>\n",
       "      <td>-0.017265</td>\n",
       "      <td>0.013433</td>\n",
       "      <td>0.004613</td>\n",
       "      <td>0.003855</td>\n",
       "      <td>-0.001830</td>\n",
       "    </tr>\n",
       "    <tr>\n",
       "      <th>2</th>\n",
       "      <td>0.226372</td>\n",
       "      <td>-0.212549</td>\n",
       "      <td>-0.010488</td>\n",
       "      <td>-0.048061</td>\n",
       "      <td>-0.032597</td>\n",
       "      <td>0.019672</td>\n",
       "      <td>-0.138077</td>\n",
       "      <td>0.101213</td>\n",
       "      <td>0.167859</td>\n",
       "      <td>0.155945</td>\n",
       "      <td>...</td>\n",
       "      <td>-0.025457</td>\n",
       "      <td>0.064542</td>\n",
       "      <td>0.195727</td>\n",
       "      <td>0.076590</td>\n",
       "      <td>-0.036101</td>\n",
       "      <td>-0.153900</td>\n",
       "      <td>0.074286</td>\n",
       "      <td>-0.120863</td>\n",
       "      <td>-0.351140</td>\n",
       "      <td>0.697284</td>\n",
       "    </tr>\n",
       "    <tr>\n",
       "      <th>3</th>\n",
       "      <td>0.219749</td>\n",
       "      <td>-0.228507</td>\n",
       "      <td>0.020840</td>\n",
       "      <td>-0.056114</td>\n",
       "      <td>0.000378</td>\n",
       "      <td>0.000501</td>\n",
       "      <td>-0.077940</td>\n",
       "      <td>0.142252</td>\n",
       "      <td>0.141242</td>\n",
       "      <td>0.169537</td>\n",
       "      <td>...</td>\n",
       "      <td>-0.013759</td>\n",
       "      <td>0.014539</td>\n",
       "      <td>0.063912</td>\n",
       "      <td>-0.058017</td>\n",
       "      <td>0.273539</td>\n",
       "      <td>0.478249</td>\n",
       "      <td>-0.345481</td>\n",
       "      <td>0.297099</td>\n",
       "      <td>0.397228</td>\n",
       "      <td>0.019665</td>\n",
       "    </tr>\n",
       "    <tr>\n",
       "      <th>4</th>\n",
       "      <td>0.135652</td>\n",
       "      <td>0.199660</td>\n",
       "      <td>-0.131295</td>\n",
       "      <td>-0.128314</td>\n",
       "      <td>0.384264</td>\n",
       "      <td>-0.242231</td>\n",
       "      <td>-0.168965</td>\n",
       "      <td>-0.261239</td>\n",
       "      <td>0.158564</td>\n",
       "      <td>-0.020629</td>\n",
       "      <td>...</td>\n",
       "      <td>-0.004954</td>\n",
       "      <td>0.048737</td>\n",
       "      <td>0.043251</td>\n",
       "      <td>-0.100734</td>\n",
       "      <td>-0.029148</td>\n",
       "      <td>-0.023036</td>\n",
       "      <td>-0.088746</td>\n",
       "      <td>-0.002339</td>\n",
       "      <td>0.005538</td>\n",
       "      <td>0.005676</td>\n",
       "    </tr>\n",
       "  </tbody>\n",
       "</table>\n",
       "<p>5 rows × 30 columns</p>\n",
       "</div>"
      ],
      "text/plain": [
       "        PC0       PC1       PC2       PC3       PC4       PC5       PC6  \\\n",
       "0  0.217829 -0.231229 -0.010149 -0.048135 -0.031302  0.024503 -0.145092   \n",
       "1  0.097814 -0.072202  0.105933  0.599935  0.005302 -0.049953  0.004195   \n",
       "2  0.226372 -0.212549 -0.010488 -0.048061 -0.032597  0.019672 -0.138077   \n",
       "3  0.219749 -0.228507  0.020840 -0.056114  0.000378  0.000501 -0.077940   \n",
       "4  0.135652  0.199660 -0.131295 -0.128314  0.384264 -0.242231 -0.168965   \n",
       "\n",
       "        PC7       PC8       PC9  ...      PC20      PC21      PC22      PC23  \\\n",
       "0  0.109803  0.159186  0.165455  ... -0.022253  0.011506  0.239516  0.131387   \n",
       "1  0.046949 -0.195529  0.165716  ... -0.281078 -0.354753 -0.249302 -0.082589   \n",
       "2  0.101213  0.167859  0.155945  ... -0.025457  0.064542  0.195727  0.076590   \n",
       "3  0.142252  0.141242  0.169537  ... -0.013759  0.014539  0.063912 -0.058017   \n",
       "4 -0.261239  0.158564 -0.020629  ... -0.004954  0.048737  0.043251 -0.100734   \n",
       "\n",
       "       PC24      PC25      PC26      PC27      PC28      PC29  \n",
       "0 -0.003518 -0.166028  0.100397 -0.247441 -0.183307 -0.695948  \n",
       "1 -0.084216 -0.017265  0.013433  0.004613  0.003855 -0.001830  \n",
       "2 -0.036101 -0.153900  0.074286 -0.120863 -0.351140  0.697284  \n",
       "3  0.273539  0.478249 -0.345481  0.297099  0.397228  0.019665  \n",
       "4 -0.029148 -0.023036 -0.088746 -0.002339  0.005538  0.005676  \n",
       "\n",
       "[5 rows x 30 columns]"
      ]
     },
     "execution_count": 85,
     "metadata": {},
     "output_type": "execute_result"
    }
   ],
   "source": [
    "pc_df = pd.DataFrame(pca.components_.T, columns=['PC%s'%i for i in range(30)])\n",
    "pc_df.head()"
   ]
  },
  {
   "cell_type": "markdown",
   "id": "ff74e813-9690-4605-a5a2-3eccd90991ce",
   "metadata": {},
   "source": [
    "### Visualize the Explained Variance"
   ]
  },
  {
   "cell_type": "markdown",
   "id": "15baf4c3",
   "metadata": {
    "tags": []
   },
   "source": [
    ">__Task 6__\n",
    ">\n",
    ">- Print the amount of variance explained by PCs\n",
    ">- Print the proportion of the variance explained"
   ]
  },
  {
   "cell_type": "code",
   "execution_count": 86,
   "id": "9151d2a7",
   "metadata": {},
   "outputs": [
    {
     "name": "stdout",
     "output_type": "stream",
     "text": [
      "[1.34942743e+01 5.72371702e+00 2.72997579e+00 1.98648545e+00\n",
      " 1.63728673e+00 1.19660438e+00 6.56975066e-01 4.71257880e-01\n",
      " 4.19719655e-01 3.27355974e-01 3.01233225e-01 2.61215473e-01\n",
      " 2.27524467e-01 1.52676623e-01 8.66969617e-02 7.83636960e-02\n",
      " 5.70588973e-02 5.08604056e-02 4.27542610e-02 3.35234590e-02\n",
      " 2.79997651e-02 2.72725715e-02 2.23925640e-02 1.98699599e-02\n",
      " 1.54631369e-02 8.06323460e-03 7.11220415e-03 1.55580179e-03\n",
      " 6.73281370e-04 1.17045651e-04]\n",
      "[4.48820552e-01 1.90371247e-01 9.07991948e-02 6.60706517e-02\n",
      " 5.44562766e-02 3.97991494e-02 2.18510388e-02 1.56740716e-02\n",
      " 1.39599065e-02 1.08878837e-02 1.00190391e-02 8.68804575e-03\n",
      " 7.56748045e-03 5.07803567e-03 2.88354730e-03 2.60638227e-03\n",
      " 1.89778310e-03 1.69162082e-03 1.42200985e-03 1.11499270e-03\n",
      " 9.31274240e-04 9.07087727e-04 7.44778318e-04 6.60876321e-04\n",
      " 5.14305067e-04 2.68183774e-04 2.36552431e-04 5.17460816e-05\n",
      " 2.23933877e-05 3.89294694e-06]\n"
     ]
    }
   ],
   "source": [
    "print(pca.explained_variance_)\n",
    "print(pca.explained_variance_ratio_)"
   ]
  },
  {
   "cell_type": "markdown",
   "id": "0cf874e8-a63a-4b64-a147-c1d9304cb50d",
   "metadata": {},
   "source": [
    ">__Task 7__\n",
    ">\n",
    ">Create a scree plot to visualize the proportion of the variance explained"
   ]
  },
  {
   "cell_type": "code",
   "execution_count": 87,
   "id": "1a5dcafc",
   "metadata": {},
   "outputs": [
    {
     "data": {
      "text/plain": [
       "Text(0.5, 1.0, 'Screeplot of Explained Variance Ratio')"
      ]
     },
     "execution_count": 87,
     "metadata": {},
     "output_type": "execute_result"
    },
    {
     "data": {
      "image/png": "[encoded data removed]",
      "text/plain": [
       "<Figure size 640x480 with 1 Axes>"
      ]
     },
     "metadata": {},
     "output_type": "display_data"
    }
   ],
   "source": [
    "plt.bar(x=range(30), height=pca.explained_variance_ratio_)\n",
    "plt.title('Screeplot of Explained Variance Ratio')"
   ]
  },
  {
   "cell_type": "markdown",
   "id": "3bcfa3df-b696-4770-8929-2af212a00081",
   "metadata": {},
   "source": [
    ">__Task 8__\n",
    ">\n",
    ">Create a line plot to show the cumulative variability\n",
    ">\n",
    ">How many principal axes (columns) are necessary to explain 90% variability in the data?"
   ]
  },
  {
   "cell_type": "code",
   "execution_count": 88,
   "id": "bb108b70",
   "metadata": {},
   "outputs": [
    {
     "data": {
      "text/plain": [
       "Text(0.5, 1.0, 'Cumulative Variability')"
      ]
     },
     "execution_count": 88,
     "metadata": {},
     "output_type": "execute_result"
    },
    {
     "data": {
      "image/png": "[encoded data removed]",
      "text/plain": [
       "<Figure size 640x480 with 1 Axes>"
      ]
     },
     "metadata": {},
     "output_type": "display_data"
    }
   ],
   "source": [
    "plt.plot(np.cumsum(pca.explained_variance_ratio_), marker='o')\n",
    "plt.title('Cumulative Variability')\n",
    "\n",
    "# About 5 PCs explain 90% of the variance"
   ]
  },
  {
   "cell_type": "markdown",
   "id": "587f0b3a-d9ed-4fa5-8668-43c40a2663d9",
   "metadata": {},
   "source": [
    "Let’s plot the first two principal components and check whether the 2D representation effectively captures and distinguishes the variability in the data."
   ]
  },
  {
   "cell_type": "markdown",
   "id": "5612d3c9",
   "metadata": {},
   "source": [
    ">__Task 9__\n",
    ">\n",
    ">Visualize the first two PCs (Hint: use scatter plot from seaborn and set `hue`)"
   ]
  },
  {
   "cell_type": "code",
   "execution_count": null,
   "id": "4500f73e",
   "metadata": {},
   "outputs": [
    {
     "data": {
      "text/plain": [
       "Text(0.5, 1.0, 'PCA Scatter Plot of Test Data')"
      ]
     },
     "execution_count": 89,
     "metadata": {},
     "output_type": "execute_result"
    },
    {
     "data": {
      "image/png": "[encoded data removed]",
      "text/plain": [
       "<Figure size 1000x600 with 1 Axes>"
      ]
     },
     "metadata": {},
     "output_type": "display_data"
    },
    {
     "data": {
      "image/png": "[encoded data removed]",
      "text/plain": [
       "<Figure size 1000x600 with 1 Axes>"
      ]
     },
     "metadata": {},
     "output_type": "display_data"
    }
   ],
   "source": [
    "plt.figure(figsize=(10, 6))\n",
    "sns.scatterplot(data=X_train_pca, x='PA0', y='PA1', hue=y_bc)\n",
    "plt.title('PCA Scatter Plot of Training Data')\n",
    "#two seperate plots for training and test data\n",
    "plt.figure(figsize=(10, 6))\n",
    "sns.scatterplot(data=X_test_pca, x='PA0', y='PA1', hue=y_bc)\n",
    "plt.title('PCA Scatter Plot of Test Data')\n",
    "\n",
    "#Not sure on either of these plots. Does not look like a good separation"
   ]
  },
  {
   "cell_type": "markdown",
   "id": "840468e0",
   "metadata": {},
   "source": [
    "From data visualization, we can see that the transformed 2D data can differentiate between class 0 and class 1 to some extent. Let’s proceed with the actual models."
   ]
  },
  {
   "cell_type": "markdown",
   "id": "ab5afc9f-d3e3-40f1-bad1-15549b7bffba",
   "metadata": {},
   "source": [
    "## Logistic Regression Model"
   ]
  },
  {
   "cell_type": "markdown",
   "id": "4c3b3dca",
   "metadata": {},
   "source": [
    ">__Task 10__\n",
    ">\n",
    ">Implement a logistic regression model on the __original data__\n",
    ">\n",
    ">- Fit a logistic regression model on the train set\n",
    ">- Make predictions on the test set\n",
    ">- Calculate the *accuracy*, *precision* and *recall* using predictions and actual target values"
   ]
  },
  {
   "cell_type": "code",
   "execution_count": 90,
   "id": "7e36ea26",
   "metadata": {},
   "outputs": [
    {
     "name": "stdout",
     "output_type": "stream",
     "text": [
      "accuracy:  0.982\n",
      "precision:  0.986\n",
      "recall:  0.986\n"
     ]
    }
   ],
   "source": [
    "from sklearn.linear_model import LogisticRegression\n",
    "log_reg = LogisticRegression(max_iter=10000, random_state=156)\n",
    "log_reg.fit(X_train, y_train)\n",
    "y_pred = log_reg.predict(X_test)\n",
    "from sklearn.metrics import accuracy_score, precision_score, recall_score\n",
    "accuracy = accuracy_score(y_test, y_pred)\n",
    "precision = precision_score(y_test, y_pred)\n",
    "recall = recall_score(y_test, y_pred)\n",
    "print(\"accuracy: \", round(accuracy,3))\n",
    "print(\"precision: \", round(precision,3))\n",
    "print(\"recall: \", round(recall,3))\n"
   ]
  },
  {
   "cell_type": "markdown",
   "id": "90db502c",
   "metadata": {},
   "source": [
    ">__Task 11__\n",
    ">\n",
    ">Implement a logistic regression model on the __transformed data by PCA__\n",
    ">\n",
    ">- Fit a logistic regression model on the train set\n",
    ">- Make predictions on the test set\n",
    ">- Calculate the *accuracy*, *precision* and *recall* using predictions and actual target values"
   ]
  },
  {
   "cell_type": "code",
   "execution_count": 91,
   "id": "14d6c914",
   "metadata": {},
   "outputs": [
    {
     "name": "stdout",
     "output_type": "stream",
     "text": [
      "accuracy (PCA):  0.974\n",
      "precision (PCA):  0.973\n",
      "recall (PCA):  0.986\n"
     ]
    }
   ],
   "source": [
    "log_reg_pca = LogisticRegression(max_iter=10000, random_state=156)\n",
    "log_reg_pca.fit(X_train_pca, y_train)\n",
    "y_pred_pca = log_reg_pca.predict(X_test_pca)\n",
    "accuracy_pca = accuracy_score(y_test, y_pred_pca)\n",
    "precision_pca = precision_score(y_test, y_pred_pca)\n",
    "recall_pca = recall_score(y_test, y_pred_pca)\n",
    "print(\"accuracy (PCA): \", round(accuracy_pca, 3))\n",
    "print(\"precision (PCA): \", round(precision_pca, 3))\n",
    "print(\"recall (PCA): \", round(recall_pca, 3))"
   ]
  },
  {
   "cell_type": "markdown",
   "id": "4f082f9d",
   "metadata": {},
   "source": [
    ">__Task 12__\n",
    ">\n",
    ">Implement a logistic regression model on the __first 5 columns of the transformed data by PCA__\n",
    ">\n",
    ">- Fit a logistic regression model on the train set\n",
    ">- Make predictions on the test set\n",
    ">- Calculate the *accuracy*, *precision* and *recall* using predictions and actual target values"
   ]
  },
  {
   "cell_type": "code",
   "execution_count": 92,
   "id": "84be3cb7",
   "metadata": {},
   "outputs": [
    {
     "name": "stdout",
     "output_type": "stream",
     "text": [
      "accuracy (PCA with 5 components):  0.965\n",
      "precision (PCA with 5 components):  0.972\n",
      "recall (PCA with 5 components):  0.972\n"
     ]
    }
   ],
   "source": [
    "log_reg_pca_5 = LogisticRegression(max_iter=10000, random_state=156)\n",
    "log_reg_pca_5.fit(X_train_pca.iloc[:, :5], y_train)\n",
    "y_pred_pca_5 = log_reg_pca_5.predict(X_test_pca.iloc[:, :5])\n",
    "accuracy_pca_5 = accuracy_score(y_test, y_pred_pca_5)\n",
    "precision_pca_5 = precision_score(y_test, y_pred_pca_5)\n",
    "recall_pca_5 = recall_score(y_test, y_pred_pca_5)\n",
    "print(\"accuracy (PCA with 5 components): \", round(accuracy_pca_5, 3))\n",
    "print(\"precision (PCA with 5 components): \", round(precision_pca_5, 3))\n",
    "print(\"recall (PCA with 5 components): \", round(recall_pca_5, 3))"
   ]
  },
  {
   "cell_type": "markdown",
   "id": "85cae3df",
   "metadata": {},
   "source": [
    ">__Task 13__\n",
    ">\n",
    ">Implement a logistic regression model on the __first 2 columns of the transformed data by PCA__\n",
    ">\n",
    ">- Fit a logistic regression model on the train set\n",
    ">- Make predictions on the test set\n",
    ">- Calculate the *accuracy*, *precision* and *recall* using predictions and actual target values"
   ]
  },
  {
   "cell_type": "code",
   "execution_count": 93,
   "id": "a7c40672",
   "metadata": {},
   "outputs": [
    {
     "name": "stdout",
     "output_type": "stream",
     "text": [
      "accuracy (PCA with 2 components):  0.974\n",
      "precision (PCA with 2 components):  0.986\n",
      "recall (PCA with 2 components):  0.972\n"
     ]
    }
   ],
   "source": [
    "log_reg_pca_2 = LogisticRegression(max_iter=10000, random_state=156)\n",
    "log_reg_pca_2.fit(X_train_pca.iloc[:, :2], y_train)\n",
    "y_pred_pca_2 = log_reg_pca_2.predict(X_test_pca.iloc[:, :2])\n",
    "accuracy_pca_2 = accuracy_score(y_test, y_pred_pca_2)\n",
    "precision_pca_2 = precision_score(y_test, y_pred_pca_2)\n",
    "recall_pca_2 = recall_score(y_test, y_pred_pca_2)\n",
    "print(\"accuracy (PCA with 2 components): \", round(accuracy_pca_2, 3))\n",
    "print(\"precision (PCA with 2 components): \", round(precision_pca_2, 3))\n",
    "print(\"recall (PCA with 2 components): \", round(recall_pca_2, 3))"
   ]
  }
 ],
 "metadata": {
  "kernelspec": {
   "display_name": "Python 3",
   "language": "python",
   "name": "python3"
  },
  "language_info": {
   "codemirror_mode": {
    "name": "ipython",
    "version": 3
   },
   "file_extension": ".py",
   "mimetype": "text/x-python",
   "name": "python",
   "nbconvert_exporter": "python",
   "pygments_lexer": "ipython3",
   "version": "3.12.6"
  }
 },
 "nbformat": 4,
 "nbformat_minor": 5
}
