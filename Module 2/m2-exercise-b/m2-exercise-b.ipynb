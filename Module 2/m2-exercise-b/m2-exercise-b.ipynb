{
 "cells": [
  {
   "cell_type": "markdown",
   "id": "995c96b5",
   "metadata": {},
   "source": [
    "# Module 2: Exercise B"
   ]
  },
  {
   "cell_type": "code",
   "execution_count": 1,
   "id": "2d54bd14",
   "metadata": {},
   "outputs": [],
   "source": [
    "import pandas as pd\n",
    "import numpy as np\n",
    "import seaborn as sns\n",
    "import matplotlib.pyplot as plt\n",
    "%matplotlib inline"
   ]
  },
  {
   "cell_type": "markdown",
   "id": "19b7e976",
   "metadata": {
    "tags": []
   },
   "source": [
    "In this exercise, we will apply a PCA model to the direct marketing campaigns dataset of a banking institution. The classification goal is to predict if a client will subscribe to a term deposit. The variable __y__ represents the outcome of the phone call:\n",
    "\n",
    "- `1` indicates that the client subscribed to a term deposit.\n",
    "- `0` indicates that they did not."
   ]
  },
  {
   "cell_type": "markdown",
   "id": "63320424-8bca-41ed-95c6-d8c6a37b2bf8",
   "metadata": {},
   "source": [
    "## Data Preprocessing"
   ]
  },
  {
   "cell_type": "markdown",
   "id": "b0f356e2-d05b-4c08-bf9c-299309cf1cf8",
   "metadata": {},
   "source": [
    "Let’s begin by importing the data and creating some visualizations."
   ]
  },
  {
   "cell_type": "code",
   "execution_count": 2,
   "id": "638085bd",
   "metadata": {},
   "outputs": [
    {
     "data": {
      "text/html": [
       "<div>\n",
       "<style scoped>\n",
       "    .dataframe tbody tr th:only-of-type {\n",
       "        vertical-align: middle;\n",
       "    }\n",
       "\n",
       "    .dataframe tbody tr th {\n",
       "        vertical-align: top;\n",
       "    }\n",
       "\n",
       "    .dataframe thead th {\n",
       "        text-align: right;\n",
       "    }\n",
       "</style>\n",
       "<table border=\"1\" class=\"dataframe\">\n",
       "  <thead>\n",
       "    <tr style=\"text-align: right;\">\n",
       "      <th></th>\n",
       "      <th>age</th>\n",
       "      <th>education</th>\n",
       "      <th>balance</th>\n",
       "      <th>duration</th>\n",
       "      <th>campaign</th>\n",
       "      <th>pdays</th>\n",
       "      <th>previous</th>\n",
       "      <th>y</th>\n",
       "      <th>job_blue-collar</th>\n",
       "      <th>job_entrepreneur</th>\n",
       "      <th>...</th>\n",
       "      <th>job_technician</th>\n",
       "      <th>job_unemployed</th>\n",
       "      <th>marital_married</th>\n",
       "      <th>marital_single</th>\n",
       "      <th>poutcome_other</th>\n",
       "      <th>poutcome_success</th>\n",
       "      <th>poutcome_unknown</th>\n",
       "      <th>default_yes</th>\n",
       "      <th>housing_yes</th>\n",
       "      <th>loan_yes</th>\n",
       "    </tr>\n",
       "  </thead>\n",
       "  <tbody>\n",
       "    <tr>\n",
       "      <th>0</th>\n",
       "      <td>30.0</td>\n",
       "      <td>1</td>\n",
       "      <td>1787.0</td>\n",
       "      <td>79.0</td>\n",
       "      <td>1.0</td>\n",
       "      <td>999.0</td>\n",
       "      <td>0.0</td>\n",
       "      <td>0</td>\n",
       "      <td>False</td>\n",
       "      <td>False</td>\n",
       "      <td>...</td>\n",
       "      <td>False</td>\n",
       "      <td>True</td>\n",
       "      <td>True</td>\n",
       "      <td>False</td>\n",
       "      <td>False</td>\n",
       "      <td>False</td>\n",
       "      <td>True</td>\n",
       "      <td>False</td>\n",
       "      <td>False</td>\n",
       "      <td>False</td>\n",
       "    </tr>\n",
       "    <tr>\n",
       "      <th>1</th>\n",
       "      <td>33.0</td>\n",
       "      <td>2</td>\n",
       "      <td>4789.0</td>\n",
       "      <td>220.0</td>\n",
       "      <td>1.0</td>\n",
       "      <td>339.0</td>\n",
       "      <td>4.0</td>\n",
       "      <td>0</td>\n",
       "      <td>False</td>\n",
       "      <td>False</td>\n",
       "      <td>...</td>\n",
       "      <td>False</td>\n",
       "      <td>False</td>\n",
       "      <td>True</td>\n",
       "      <td>False</td>\n",
       "      <td>False</td>\n",
       "      <td>False</td>\n",
       "      <td>False</td>\n",
       "      <td>False</td>\n",
       "      <td>True</td>\n",
       "      <td>True</td>\n",
       "    </tr>\n",
       "    <tr>\n",
       "      <th>2</th>\n",
       "      <td>35.0</td>\n",
       "      <td>3</td>\n",
       "      <td>1350.0</td>\n",
       "      <td>185.0</td>\n",
       "      <td>1.0</td>\n",
       "      <td>330.0</td>\n",
       "      <td>1.0</td>\n",
       "      <td>0</td>\n",
       "      <td>False</td>\n",
       "      <td>False</td>\n",
       "      <td>...</td>\n",
       "      <td>False</td>\n",
       "      <td>False</td>\n",
       "      <td>False</td>\n",
       "      <td>True</td>\n",
       "      <td>False</td>\n",
       "      <td>False</td>\n",
       "      <td>False</td>\n",
       "      <td>False</td>\n",
       "      <td>True</td>\n",
       "      <td>False</td>\n",
       "    </tr>\n",
       "    <tr>\n",
       "      <th>3</th>\n",
       "      <td>59.0</td>\n",
       "      <td>2</td>\n",
       "      <td>0.0</td>\n",
       "      <td>226.0</td>\n",
       "      <td>1.0</td>\n",
       "      <td>999.0</td>\n",
       "      <td>0.0</td>\n",
       "      <td>0</td>\n",
       "      <td>True</td>\n",
       "      <td>False</td>\n",
       "      <td>...</td>\n",
       "      <td>False</td>\n",
       "      <td>False</td>\n",
       "      <td>True</td>\n",
       "      <td>False</td>\n",
       "      <td>False</td>\n",
       "      <td>False</td>\n",
       "      <td>True</td>\n",
       "      <td>False</td>\n",
       "      <td>True</td>\n",
       "      <td>False</td>\n",
       "    </tr>\n",
       "    <tr>\n",
       "      <th>4</th>\n",
       "      <td>35.0</td>\n",
       "      <td>3</td>\n",
       "      <td>747.0</td>\n",
       "      <td>141.0</td>\n",
       "      <td>2.0</td>\n",
       "      <td>176.0</td>\n",
       "      <td>3.0</td>\n",
       "      <td>0</td>\n",
       "      <td>False</td>\n",
       "      <td>False</td>\n",
       "      <td>...</td>\n",
       "      <td>False</td>\n",
       "      <td>False</td>\n",
       "      <td>False</td>\n",
       "      <td>True</td>\n",
       "      <td>False</td>\n",
       "      <td>False</td>\n",
       "      <td>False</td>\n",
       "      <td>False</td>\n",
       "      <td>False</td>\n",
       "      <td>False</td>\n",
       "    </tr>\n",
       "  </tbody>\n",
       "</table>\n",
       "<p>5 rows × 26 columns</p>\n",
       "</div>"
      ],
      "text/plain": [
       "    age  education  balance  duration  campaign  pdays  previous  y  \\\n",
       "0  30.0          1   1787.0      79.0       1.0  999.0       0.0  0   \n",
       "1  33.0          2   4789.0     220.0       1.0  339.0       4.0  0   \n",
       "2  35.0          3   1350.0     185.0       1.0  330.0       1.0  0   \n",
       "3  59.0          2      0.0     226.0       1.0  999.0       0.0  0   \n",
       "4  35.0          3    747.0     141.0       2.0  176.0       3.0  0   \n",
       "\n",
       "   job_blue-collar  job_entrepreneur  ...  job_technician  job_unemployed  \\\n",
       "0            False             False  ...           False            True   \n",
       "1            False             False  ...           False           False   \n",
       "2            False             False  ...           False           False   \n",
       "3             True             False  ...           False           False   \n",
       "4            False             False  ...           False           False   \n",
       "\n",
       "   marital_married  marital_single  poutcome_other  poutcome_success  \\\n",
       "0             True           False           False             False   \n",
       "1             True           False           False             False   \n",
       "2            False            True           False             False   \n",
       "3             True           False           False             False   \n",
       "4            False            True           False             False   \n",
       "\n",
       "   poutcome_unknown  default_yes  housing_yes  loan_yes  \n",
       "0              True        False        False     False  \n",
       "1             False        False         True      True  \n",
       "2             False        False         True     False  \n",
       "3              True        False         True     False  \n",
       "4             False        False        False     False  \n",
       "\n",
       "[5 rows x 26 columns]"
      ]
     },
     "execution_count": 2,
     "metadata": {},
     "output_type": "execute_result"
    }
   ],
   "source": [
    "bank = pd.read_csv('bank_campaign.csv')\n",
    "bank.head()"
   ]
  },
  {
   "cell_type": "code",
   "execution_count": 3,
   "id": "23643d86",
   "metadata": {},
   "outputs": [
    {
     "name": "stdout",
     "output_type": "stream",
     "text": [
      "<class 'pandas.core.frame.DataFrame'>\n",
      "RangeIndex: 4332 entries, 0 to 4331\n",
      "Data columns (total 26 columns):\n",
      " #   Column             Non-Null Count  Dtype  \n",
      "---  ------             --------------  -----  \n",
      " 0   age                4332 non-null   float64\n",
      " 1   education          4332 non-null   int64  \n",
      " 2   balance            4332 non-null   float64\n",
      " 3   duration           4332 non-null   float64\n",
      " 4   campaign           4332 non-null   float64\n",
      " 5   pdays              4332 non-null   float64\n",
      " 6   previous           4332 non-null   float64\n",
      " 7   y                  4332 non-null   int64  \n",
      " 8   job_blue-collar    4332 non-null   bool   \n",
      " 9   job_entrepreneur   4332 non-null   bool   \n",
      " 10  job_housemaid      4332 non-null   bool   \n",
      " 11  job_management     4332 non-null   bool   \n",
      " 12  job_retired        4332 non-null   bool   \n",
      " 13  job_self-employed  4332 non-null   bool   \n",
      " 14  job_services       4332 non-null   bool   \n",
      " 15  job_student        4332 non-null   bool   \n",
      " 16  job_technician     4332 non-null   bool   \n",
      " 17  job_unemployed     4332 non-null   bool   \n",
      " 18  marital_married    4332 non-null   bool   \n",
      " 19  marital_single     4332 non-null   bool   \n",
      " 20  poutcome_other     4332 non-null   bool   \n",
      " 21  poutcome_success   4332 non-null   bool   \n",
      " 22  poutcome_unknown   4332 non-null   bool   \n",
      " 23  default_yes        4332 non-null   bool   \n",
      " 24  housing_yes        4332 non-null   bool   \n",
      " 25  loan_yes           4332 non-null   bool   \n",
      "dtypes: bool(18), float64(6), int64(2)\n",
      "memory usage: 347.0 KB\n"
     ]
    }
   ],
   "source": [
    "bank.info()"
   ]
  },
  {
   "cell_type": "markdown",
   "id": "b421cc9d-36c5-43bf-be71-4f30526a13db",
   "metadata": {},
   "source": [
    ">__Task 1__\n",
    ">\n",
    ">- Check unique values in `y`\n",
    ">- Plot the count of each class"
   ]
  },
  {
   "cell_type": "code",
   "execution_count": null,
   "id": "96e9aa2b",
   "metadata": {},
   "outputs": [],
   "source": [
    "..."
   ]
  },
  {
   "cell_type": "markdown",
   "id": "dee3a0e6-4401-49df-8cd9-1a4293bec77e",
   "metadata": {},
   "source": [
    "### Split the Data"
   ]
  },
  {
   "cell_type": "markdown",
   "id": "1408eb5d-d6c1-43ab-89e4-31e80910b8fb",
   "metadata": {},
   "source": [
    ">__Task 2__\n",
    ">\n",
    ">Split the data into `X_train`, `X_test`, `y_train`, `y_test` \n",
    ">\n",
    ">- Note that the feature set should exclude the column `y`\n",
    ">- Set a 80(train):20(test) ratio\n",
    ">- Set 156 randomness and use stratified split"
   ]
  },
  {
   "cell_type": "code",
   "execution_count": null,
   "id": "d351bcc6",
   "metadata": {},
   "outputs": [],
   "source": [
    "..."
   ]
  },
  {
   "cell_type": "markdown",
   "id": "765b5723-52b2-4f66-adc9-e5740ba0f943",
   "metadata": {},
   "source": [
    "### Standardize the Data"
   ]
  },
  {
   "cell_type": "markdown",
   "id": "00d65793-ec30-4136-8062-3f1b0ed5ede1",
   "metadata": {},
   "source": [
    ">__Task 3__\n",
    ">\n",
    ">Standardize both train and test sets\n",
    ">\n",
    ">- Fit the scaler to the train set\n",
    ">- Transform both train and test sets using the fitted scaler "
   ]
  },
  {
   "cell_type": "code",
   "execution_count": null,
   "id": "48153f4b",
   "metadata": {},
   "outputs": [],
   "source": [
    "..."
   ]
  },
  {
   "cell_type": "markdown",
   "id": "de6552b9-703d-46d6-91a5-d6b7da69249f",
   "metadata": {},
   "source": [
    "## PCA Implementation"
   ]
  },
  {
   "cell_type": "markdown",
   "id": "ab2559a5-33c0-473a-abe8-111e9546da94",
   "metadata": {},
   "source": [
    ">__Task 4__\n",
    ">\n",
    ">- Fit a PCA model on the train set\n",
    ">- Transform both train and test sets\n",
    ">- Save the transformed data in DataFrame named `X_train_pca` and `X_test_pca` respectively\n",
    ">- Check out the first 5 rows of the transformed data points in the test set"
   ]
  },
  {
   "cell_type": "code",
   "execution_count": null,
   "id": "3cd91397",
   "metadata": {},
   "outputs": [],
   "source": [
    "..."
   ]
  },
  {
   "cell_type": "markdown",
   "id": "3a37e751-0aa8-4229-9825-fae997b65509",
   "metadata": {},
   "source": [
    ">__Task 5__\n",
    ">\n",
    ">- Print the weight of the first feature (column) in the first principal component (PC)\n",
    ">- Save PCs into a DataFrame and print out the first 5 PCs"
   ]
  },
  {
   "cell_type": "code",
   "execution_count": null,
   "id": "8d56d7b4",
   "metadata": {},
   "outputs": [],
   "source": [
    "..."
   ]
  },
  {
   "cell_type": "markdown",
   "id": "b7f77647-2457-4a24-92cc-928d2dc32fbe",
   "metadata": {},
   "source": [
    "### Visualize the Explained Variance"
   ]
  },
  {
   "cell_type": "markdown",
   "id": "310af88b-f86d-4bda-9d2c-e30f90188b30",
   "metadata": {},
   "source": [
    ">__Task 6__\n",
    ">\n",
    ">- Print the amount of variance explained by PCs\n",
    ">- Print the proportion of the variance explained"
   ]
  },
  {
   "cell_type": "code",
   "execution_count": null,
   "id": "257647b9",
   "metadata": {},
   "outputs": [],
   "source": [
    "..."
   ]
  },
  {
   "cell_type": "markdown",
   "id": "14b7beb5-cde1-4c46-910c-e48f6d53fb92",
   "metadata": {},
   "source": [
    ">__Task 7__\n",
    ">\n",
    ">Create a scree plot to visualize the proportion of the variance explained"
   ]
  },
  {
   "cell_type": "code",
   "execution_count": null,
   "id": "1a5dcafc",
   "metadata": {},
   "outputs": [],
   "source": [
    "..."
   ]
  },
  {
   "cell_type": "markdown",
   "id": "12d57ea0-50ed-48f3-aadf-27e5c7871c7d",
   "metadata": {},
   "source": [
    ">__Task 8__\n",
    ">\n",
    ">Create a line plot to show the cumulative variability\n",
    ">\n",
    ">How many principal axes (columns) are necessary to explain 90% variability in the data?"
   ]
  },
  {
   "cell_type": "code",
   "execution_count": null,
   "id": "bb108b70",
   "metadata": {},
   "outputs": [],
   "source": [
    "..."
   ]
  },
  {
   "cell_type": "markdown",
   "id": "c55627c5-ab06-4b71-915e-2500eb00030b",
   "metadata": {},
   "source": [
    "Let’s plot the first two principal components and check whether the 2D representation effectively captures and distinguishes the variability in the data."
   ]
  },
  {
   "cell_type": "markdown",
   "id": "793a4d6e-332c-4e1e-a0ad-b82df2027f26",
   "metadata": {},
   "source": [
    ">__Task 9__\n",
    ">\n",
    ">Visualize the first two PCs (Hint: use scatter plot from seaborn and set `hue`)"
   ]
  },
  {
   "cell_type": "code",
   "execution_count": null,
   "id": "4500f73e",
   "metadata": {},
   "outputs": [],
   "source": [
    "..."
   ]
  },
  {
   "cell_type": "markdown",
   "id": "840468e0",
   "metadata": {},
   "source": [
    "From data visualization, we can see that the transformed 2D data can differentiate between class 0 and class 1 to some extent. Let’s proceed with the actual models."
   ]
  },
  {
   "cell_type": "markdown",
   "id": "b6b37d52-ee15-4d87-8a25-168a6edcbd2a",
   "metadata": {},
   "source": [
    "## Logistic Regression Model"
   ]
  },
  {
   "cell_type": "markdown",
   "id": "af40e218-eccd-4a2c-953d-22df6099e656",
   "metadata": {},
   "source": [
    ">__Task 10__\n",
    ">\n",
    ">Implement a logistic regression model on the __original data__\n",
    ">\n",
    ">- Fit a logistic regression model on the train set\n",
    ">- Make predictions on the test set\n",
    ">- Calculate the *accuracy*, *precision* and *recall* using predictions and actual target values"
   ]
  },
  {
   "cell_type": "code",
   "execution_count": null,
   "id": "50049638",
   "metadata": {},
   "outputs": [],
   "source": [
    "..."
   ]
  },
  {
   "cell_type": "markdown",
   "id": "5853bca3-4130-4780-8c45-41123b90188b",
   "metadata": {},
   "source": [
    ">__Task 11__\n",
    ">\n",
    ">Implement a logistic regression model on the __transformed data by PCA__\n",
    ">\n",
    ">- Fit a logistic regression model on the train set\n",
    ">- Make predictions on the test set\n",
    ">- Calculate the *accuracy*, *precision* and *recall* using predictions and actual target values"
   ]
  },
  {
   "cell_type": "code",
   "execution_count": null,
   "id": "14d6c914",
   "metadata": {},
   "outputs": [],
   "source": [
    "..."
   ]
  },
  {
   "cell_type": "markdown",
   "id": "c7ec563d-3d7c-4f88-a543-5bd0d20d61a7",
   "metadata": {},
   "source": [
    ">__Task 12__\n",
    ">\n",
    ">Implement a logistic regression model on the __first 18 columns of the transformed data by PCA__\n",
    ">\n",
    ">- Fit a logistic regression model on the train set\n",
    ">- Make predictions on the test set\n",
    ">- Calculate the *accuracy*, *precision* and *recall* using predictions and actual target values"
   ]
  },
  {
   "cell_type": "code",
   "execution_count": null,
   "id": "84be3cb7",
   "metadata": {},
   "outputs": [],
   "source": [
    "..."
   ]
  },
  {
   "cell_type": "markdown",
   "id": "00b1193f-c5fa-470f-9c91-bd47fa07df1d",
   "metadata": {},
   "source": [
    ">__Task 13__\n",
    ">\n",
    ">Implement a logistic regression model on the __first 5 columns of the transformed data by PCA__\n",
    ">\n",
    ">- Fit a logistic regression model on the train set\n",
    ">- Make predictions on the test set\n",
    ">- Calculate the *accuracy*, *precision* and *recall* using predictions and actual target values"
   ]
  },
  {
   "cell_type": "code",
   "execution_count": null,
   "id": "a7c40672",
   "metadata": {},
   "outputs": [],
   "source": [
    "..."
   ]
  }
 ],
 "metadata": {
  "kernelspec": {
   "display_name": "Python 3",
   "language": "python",
   "name": "python3"
  },
  "language_info": {
   "codemirror_mode": {
    "name": "ipython",
    "version": 3
   },
   "file_extension": ".py",
   "mimetype": "text/x-python",
   "name": "python",
   "nbconvert_exporter": "python",
   "pygments_lexer": "ipython3",
   "version": "3.10.4"
  }
 },
 "nbformat": 4,
 "nbformat_minor": 5
}
